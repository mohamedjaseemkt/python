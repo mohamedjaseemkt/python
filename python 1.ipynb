{
 "cells": [
  {
   "cell_type": "code",
   "execution_count": 4,
   "id": "6d2d01a3",
   "metadata": {},
   "outputs": [
    {
     "name": "stdout",
     "output_type": "stream",
     "text": [
      "hello world\n",
      "hello world\n",
      "hello world\n"
     ]
    }
   ],
   "source": [
    "print(\"hello world\")\n",
    "print(\"hello world\")\n",
    "print(\"hello world\")\n"
   ]
  },
  {
   "cell_type": "code",
   "execution_count": 7,
   "id": "31014a12",
   "metadata": {},
   "outputs": [
    {
     "name": "stdout",
     "output_type": "stream",
     "text": [
      "-61\n"
     ]
    }
   ],
   "source": [
    "x = 5\n",
    "y =66\n",
    "\n",
    "z =x-y\n",
    "print(z)"
   ]
  },
  {
   "cell_type": "code",
   "execution_count": 9,
   "id": "c98b229c",
   "metadata": {},
   "outputs": [
    {
     "name": "stdout",
     "output_type": "stream",
     "text": [
      "<class 'int'>\n"
     ]
    }
   ],
   "source": [
    "x = 5\n",
    "y =6.6\n",
    "letter = \"hii\"\n",
    "print(type(x))"
   ]
  },
  {
   "cell_type": "code",
   "execution_count": 13,
   "id": "76e15400",
   "metadata": {},
   "outputs": [
    {
     "name": "stdout",
     "output_type": "stream",
     "text": [
      "enter your name; hh\n",
      "your name is; hh\n"
     ]
    }
   ],
   "source": [
    "name = input (\"enter your name; \")\n",
    "print (\"your name is;\",name)"
   ]
  },
  {
   "cell_type": "code",
   "execution_count": 16,
   "id": "b128d67e",
   "metadata": {},
   "outputs": [
    {
     "name": "stdout",
     "output_type": "stream",
     "text": [
      "enter first number;11\n",
      "enterb sencond number;12\n",
      "some is 23.0\n"
     ]
    }
   ],
   "source": [
    "x =int(input (\"enter first number;\"))\n",
    "y =float(input (\"enterb sencond number;\"))\n",
    "print (\"some is\",x+y)"
   ]
  },
  {
   "cell_type": "code",
   "execution_count": 1,
   "id": "8269430c",
   "metadata": {},
   "outputs": [
    {
     "name": "stdout",
     "output_type": "stream",
     "text": [
      "uoy era woh ,olleh\n"
     ]
    }
   ],
   "source": [
    "string = ('hello, how are you')\n",
    "rev = string[::-1]\n",
    "print(rev)"
   ]
  },
  {
   "cell_type": "code",
   "execution_count": 6,
   "id": "71a83f66",
   "metadata": {},
   "outputs": [
    {
     "name": "stdout",
     "output_type": "stream",
     "text": [
      "write a sentence ; 11\n",
      "True\n"
     ]
    }
   ],
   "source": [
    "string = input('write a sentence ; ')\n",
    "print(string.isnumeric())"
   ]
  },
  {
   "cell_type": "code",
   "execution_count": null,
   "id": "c1a6b886",
   "metadata": {},
   "outputs": [],
   "source": [
    "string = input(\"write a letter; \")\n",
    "rev = string[::-1]\n"
   ]
  }
 ],
 "metadata": {
  "kernelspec": {
   "display_name": "Python 3 (ipykernel)",
   "language": "python",
   "name": "python3"
  },
  "language_info": {
   "codemirror_mode": {
    "name": "ipython",
    "version": 3
   },
   "file_extension": ".py",
   "mimetype": "text/x-python",
   "name": "python",
   "nbconvert_exporter": "python",
   "pygments_lexer": "ipython3",
   "version": "3.11.5"
  }
 },
 "nbformat": 4,
 "nbformat_minor": 5
}
