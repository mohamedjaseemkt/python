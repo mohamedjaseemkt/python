{
 "cells": [
  {
   "cell_type": "code",
   "execution_count": 1,
   "id": "a2dcc666",
   "metadata": {},
   "outputs": [
    {
     "name": "stdout",
     "output_type": "stream",
     "text": [
      "python print\n"
     ]
    }
   ],
   "source": [
    "print(\"python print\")"
   ]
  },
  {
   "cell_type": "code",
   "execution_count": 6,
   "id": "44749ca2",
   "metadata": {},
   "outputs": [
    {
     "name": "stdout",
     "output_type": "stream",
     "text": [
      "6\n",
      "<class 'int'>\n"
     ]
    }
   ],
   "source": [
    "x = 2\n",
    "y = 4 \n",
    "z = x+y\n",
    "print(z)\n",
    "print(type(y))"
   ]
  },
  {
   "cell_type": "code",
   "execution_count": 7,
   "id": "a46529a4",
   "metadata": {},
   "outputs": [
    {
     "name": "stdout",
     "output_type": "stream",
     "text": [
      "enter your number;45\n",
      "enter your nuber;45\n",
      "sum is; 90.0\n"
     ]
    }
   ],
   "source": [
    "x=int(input(\"enter your number;\"))\n",
    "y=float(input(\"enter your nuber;\"))\n",
    "print(\"sum is;\",x+y)"
   ]
  },
  {
   "cell_type": "code",
   "execution_count": 10,
   "id": "1690778b",
   "metadata": {},
   "outputs": [
    {
     "name": "stdout",
     "output_type": "stream",
     "text": [
      "enter your number44\n",
      "enter your number66\n",
      "enter your number55\n",
      "enter your number0\n",
      "your total =  110\n"
     ]
    }
   ],
   "source": [
    "\n",
    "total = 0\n",
    "number = int(input(\"enter your number\"))\n",
    "i = 0\n",
    "\n",
    "while number !=0:\n",
    "    total = number ++ number\n",
    "    number = int(input(\"enter your number\"))\n",
    "    i = i + 1\n",
    "    \n",
    "print('your total = ',total)\n",
    "    "
   ]
  },
  {
   "cell_type": "code",
   "execution_count": 7,
   "id": "474ef346",
   "metadata": {},
   "outputs": [
    {
     "name": "stdout",
     "output_type": "stream",
     "text": [
      "enter your stringmalayalam\n",
      "malayalam\n",
      "string is palindrome\n"
     ]
    }
   ],
   "source": [
    "#check if a user entered string is a palindrome\n",
    "x = (input(\"enter your string\"))\n",
    "rev = x[::-1]\n",
    "print(rev)\n",
    "if x == rev:\n",
    "    print(\"string is palindrome\")\n",
    "else:\n",
    "    print (\"string not palindrome\")"
   ]
  },
  {
   "cell_type": "code",
   "execution_count": 3,
   "id": "2606e7c7",
   "metadata": {},
   "outputs": [
    {
     "name": "stdout",
     "output_type": "stream",
     "text": [
      "enter number554\n",
      "sum of digut =  14\n"
     ]
    }
   ],
   "source": [
    "#write a python program to calculate sum of digit in a user enter number\n",
    "number = int(input(\"enter number\"))\n",
    "num = 0\n",
    "while number>0:\n",
    "    num += number%10\n",
    "    number = number//10\n",
    "    \n",
    "print('sum of digut = ',num)"
   ]
  },
  {
   "cell_type": "code",
   "execution_count": null,
   "id": "ae912255",
   "metadata": {},
   "outputs": [],
   "source": [
    "import random\n",
    "random_number = random.randint(1,10)\n",
    "while True:\n",
    "    g = int(input(\"enter\"))\n",
    "    if g == random_number:\n",
    "        print(\"congratulation\")\n",
    "        break\n",
    "        "
   ]
  }
 ],
 "metadata": {
  "kernelspec": {
   "display_name": "Python 3 (ipykernel)",
   "language": "python",
   "name": "python3"
  },
  "language_info": {
   "codemirror_mode": {
    "name": "ipython",
    "version": 3
   },
   "file_extension": ".py",
   "mimetype": "text/x-python",
   "name": "python",
   "nbconvert_exporter": "python",
   "pygments_lexer": "ipython3",
   "version": "3.11.5"
  }
 },
 "nbformat": 4,
 "nbformat_minor": 5
}
