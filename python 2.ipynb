{
 "cells": [
  {
   "cell_type": "code",
   "execution_count": 1,
   "id": "820bd1b7",
   "metadata": {},
   "outputs": [
    {
     "name": "stdout",
     "output_type": "stream",
     "text": [
      "11\n"
     ]
    }
   ],
   "source": [
    "my_string =\"hello world\"\n",
    "length = len(my_string)\n",
    "print(length)"
   ]
  },
  {
   "cell_type": "code",
   "execution_count": 6,
   "id": "b1ac3bf7",
   "metadata": {},
   "outputs": [
    {
     "name": "stdout",
     "output_type": "stream",
     "text": [
      "l\n"
     ]
    }
   ],
   "source": [
    "my_string = \"hello\"\n",
    "first_char = my_string[2]\n",
    "print(first_char)"
   ]
  },
  {
   "cell_type": "code",
   "execution_count": 7,
   "id": "8cfb5458",
   "metadata": {},
   "outputs": [
    {
     "name": "stdout",
     "output_type": "stream",
     "text": [
      "world;\n"
     ]
    }
   ],
   "source": [
    "my_string = \"hello, world;\"\n",
    "sliced_string = my_string[7:13]\n",
    "print(sliced_string)"
   ]
  },
  {
   "cell_type": "code",
   "execution_count": 8,
   "id": "d51734d3",
   "metadata": {},
   "outputs": [
    {
     "name": "stdout",
     "output_type": "stream",
     "text": [
      "l r\n"
     ]
    }
   ],
   "source": [
    "my_string = \"hello, world\"\n",
    "last_char = my_string[-2]\n",
    "second_last_char = my_string[-3]\n",
    "print(last_char, second_last_char)"
   ]
  },
  {
   "cell_type": "code",
   "execution_count": 15,
   "id": "5dfc689c",
   "metadata": {
    "scrolled": true
   },
   "outputs": [
    {
     "name": "stdout",
     "output_type": "stream",
     "text": [
      "hello  world\n"
     ]
    }
   ],
   "source": [
    "my_string = \"hello, world\"\n",
    "start_omitted = my_string[:5]\n",
    "end_omitted = my_string[6:]\n",
    "print(start_omitted, end_omitted)"
   ]
  },
  {
   "cell_type": "code",
   "execution_count": 16,
   "id": "45e617ba",
   "metadata": {},
   "outputs": [
    {
     "name": "stdout",
     "output_type": "stream",
     "text": [
      "hlo\n"
     ]
    }
   ],
   "source": [
    "my_string = \"hello, world\"\n",
    "every_second_char = my_string[0:5:2]\n",
    "print(every_second_char)"
   ]
  },
  {
   "cell_type": "code",
   "execution_count": 19,
   "id": "00d01f82",
   "metadata": {},
   "outputs": [
    {
     "name": "stdout",
     "output_type": "stream",
     "text": [
      "dlrow ,olleh\n",
      "hello, world\n"
     ]
    }
   ],
   "source": [
    "my_string = \"hello, world\"\n",
    "reversed_string = my_string[::-1]\n",
    "print(reversed_string)\n",
    "a = \"hello, world\"\n",
    "print(a)"
   ]
  },
  {
   "cell_type": "code",
   "execution_count": 18,
   "id": "a8469a3d",
   "metadata": {},
   "outputs": [
    {
     "name": "stdout",
     "output_type": "stream",
     "text": [
      "hello people!!!!!!!!!!!!!!!\n"
     ]
    }
   ],
   "source": [
    "a =\"hello\"\n",
    "b =\"people\"\n",
    "c =a+ \" \" +b+(\"!\"*15)\n",
    "print(c)"
   ]
  },
  {
   "cell_type": "code",
   "execution_count": 20,
   "id": "e119442d",
   "metadata": {},
   "outputs": [
    {
     "name": "stdout",
     "output_type": "stream",
     "text": [
      "JASEEM\n"
     ]
    }
   ],
   "source": [
    "s1 = 'jaseem'\n",
    "print(s1.upper())\n"
   ]
  },
  {
   "cell_type": "code",
   "execution_count": 24,
   "id": "a07e6106",
   "metadata": {},
   "outputs": [
    {
     "name": "stdout",
     "output_type": "stream",
     "text": [
      "jaseem\n"
     ]
    }
   ],
   "source": [
    "name = 'jaseem'\n",
    "print(name.lower())\n",
    "s2 ='hello, world'"
   ]
  },
  {
   "cell_type": "code",
   "execution_count": 31,
   "id": "7ec111a5",
   "metadata": {},
   "outputs": [
    {
     "name": "stdout",
     "output_type": "stream",
     "text": [
      "True\n",
      "True\n",
      "True\n"
     ]
    }
   ],
   "source": [
    "str1 = print(\"jaseem\".isalpha())\n",
    "str2 = print('123'.isnumeric())\n",
    "str = print('jaseem123'.isalnum())"
   ]
  },
  {
   "cell_type": "code",
   "execution_count": 34,
   "id": "c8fbe5bd",
   "metadata": {},
   "outputs": [
    {
     "name": "stdout",
     "output_type": "stream",
     "text": [
      "['volvo', 'bmw', 'toyota']\n",
      "volvo+bmw+toyota\n"
     ]
    }
   ],
   "source": [
    "my_string = \"volvo,bmw,toyota\"\n",
    "car = my_string.split(\",\")\n",
    "print(car)\n",
    "joined_string = \"+\".join(car)\n",
    "print(joined_string)"
   ]
  },
  {
   "cell_type": "code",
   "execution_count": 35,
   "id": "0a66bd07",
   "metadata": {},
   "outputs": [
    {
     "name": "stdout",
     "output_type": "stream",
     "text": [
      "hello, world\n"
     ]
    }
   ],
   "source": [
    "my_string = 'hello, people'\n",
    "new_string = my_string.replace(\"people\",\"world\")\n",
    "print(new_string)"
   ]
  },
  {
   "cell_type": "code",
   "execution_count": 4,
   "id": "78494310",
   "metadata": {},
   "outputs": [
    {
     "name": "stdout",
     "output_type": "stream",
     "text": [
      "my name is jaseem and i am 22 years old.\n"
     ]
    }
   ],
   "source": [
    "name = \"jaseem\"\n",
    "age = 22\n",
    "formatted_string = \"my name is %s and i am %d years old.\"%(name, age)\n",
    "print(formatted_string)"
   ]
  },
  {
   "cell_type": "code",
   "execution_count": 8,
   "id": "f1efc2fc",
   "metadata": {},
   "outputs": [
    {
     "name": "stdout",
     "output_type": "stream",
     "text": [
      "my name is alice and i am 25 years old\n"
     ]
    }
   ],
   "source": [
    "name =\"alice\" \n",
    "age = 25\n",
    "formatted_string = f\"my name is {name} and i am {age} years old\"\n",
    "print(formatted_string)"
   ]
  },
  {
   "cell_type": "code",
   "execution_count": 9,
   "id": "eb59d3c1",
   "metadata": {},
   "outputs": [
    {
     "name": "stdout",
     "output_type": "stream",
     "text": [
      "my name is rinshana and Iam 20 years old.\n"
     ]
    }
   ],
   "source": [
    "name = \"rinshana\"\n",
    "age = 20\n",
    "formatted_string = \"my name is {} and Iam {} years old.\".format(name,age)\n",
    "print(formatted_string)"
   ]
  },
  {
   "cell_type": "code",
   "execution_count": 10,
   "id": "085a0799",
   "metadata": {},
   "outputs": [
    {
     "name": "stdout",
     "output_type": "stream",
     "text": [
      "the value of pi is approximately;5.36\n"
     ]
    }
   ],
   "source": [
    "pi = 5.3555215\n",
    "formatted_pi = \"the value of pi is approximately;{:0.2f}\".format(pi)\n",
    "print(formatted_pi)"
   ]
  },
  {
   "cell_type": "code",
   "execution_count": 11,
   "id": "6659673f",
   "metadata": {},
   "outputs": [
    {
     "name": "stdout",
     "output_type": "stream",
     "text": [
      "False\n",
      "False\n",
      "True\n"
     ]
    }
   ],
   "source": [
    "x = 9\n",
    "y = 16\n",
    "greater_than = x>y\n",
    "equal_to = x==y\n",
    "logical_and = (x<y) and (y>x)\n",
    "print(greater_than)\n",
    "print(equal_to)\n",
    "print(logical_and)"
   ]
  },
  {
   "cell_type": "code",
   "execution_count": 13,
   "id": "cc4f5a75",
   "metadata": {},
   "outputs": [
    {
     "name": "stdout",
     "output_type": "stream",
     "text": [
      "31\n",
      "9\n",
      "1.8181818181818181\n",
      "9\n",
      "204800000000000\n",
      "1\n"
     ]
    }
   ],
   "source": [
    "x = 20\n",
    "y = 11\n",
    "addition = x+y\n",
    "substraction = x-y\n",
    "division = x/y\n",
    "modulus = x%y\n",
    "exponentiation = x**y\n",
    "floor_division = x//y\n",
    "print(addition)\n",
    "print(substraction)\n",
    "print(division)\n",
    "print(modulus)\n",
    "print(exponentiation)\n",
    "print(floor_division)"
   ]
  },
  {
   "cell_type": "code",
   "execution_count": 14,
   "id": "0602234f",
   "metadata": {},
   "outputs": [
    {
     "name": "stdout",
     "output_type": "stream",
     "text": [
      "True\n",
      "True\n",
      "False\n"
     ]
    }
   ],
   "source": [
    "x = 9\n",
    "print(x > 5 and x < 10)\n",
    "print(x > 3 or x < 5)\n",
    "print(not(x > 5 and x < 10))"
   ]
  },
  {
   "cell_type": "code",
   "execution_count": 15,
   "id": "be86e6aa",
   "metadata": {},
   "outputs": [
    {
     "name": "stdout",
     "output_type": "stream",
     "text": [
      "15\n"
     ]
    }
   ],
   "source": [
    "x = 10\n",
    "x +=5\n",
    "print(x)"
   ]
  },
  {
   "cell_type": "code",
   "execution_count": 16,
   "id": "f41a80a1",
   "metadata": {},
   "outputs": [
    {
     "name": "stdout",
     "output_type": "stream",
     "text": [
      "True\n",
      "True\n",
      "True\n",
      "False\n",
      "True\n",
      "False\n"
     ]
    }
   ],
   "source": [
    "x = [\"car\",\"bike\"]\n",
    "y = [\"car\",\"bike\"]\n",
    "z = x\n",
    "print(x is z)\n",
    "print(y is y)\n",
    "print(x == y)\n",
    "print(x is not z)\n",
    "print(x is not y)\n",
    "print(x != y)"
   ]
  },
  {
   "cell_type": "code",
   "execution_count": 18,
   "id": "7c667d63",
   "metadata": {},
   "outputs": [
    {
     "name": "stdout",
     "output_type": "stream",
     "text": [
      "True\n",
      "True\n"
     ]
    }
   ],
   "source": [
    "x = [\"apple\",\"banana\"]\n",
    "print(\"apple\" in x)\n",
    "print(\"orange\" not in x)"
   ]
  },
  {
   "cell_type": "code",
   "execution_count": 4,
   "id": "4fd82f53",
   "metadata": {},
   "outputs": [
    {
     "name": "stdout",
     "output_type": "stream",
     "text": [
      "['bmw', 'susuki', 'VOLVO', 'benz']\n"
     ]
    }
   ],
   "source": [
    "cars =[\"bmw\",'VOLVO']\n",
    "cars.append (\"benz\")\n",
    "cars.insert (1,\"susuki\")\n",
    "print(cars)"
   ]
  },
  {
   "cell_type": "code",
   "execution_count": 6,
   "id": "461b5c97",
   "metadata": {},
   "outputs": [
    {
     "name": "stdout",
     "output_type": "stream",
     "text": [
      "['banana', 'apple', 'orange', 'melon']\n"
     ]
    }
   ],
   "source": [
    "fruits = [\"banana\",\"apple\",]\n",
    "m_fruits = [\"orange\",\"melon\"]\n",
    "fruits.extend(m_fruits)\n",
    "print(fruits)"
   ]
  },
  {
   "cell_type": "code",
   "execution_count": null,
   "id": "8c037996",
   "metadata": {},
   "outputs": [],
   "source": [
    "fruits = [\"banana\",\"apple\",]\n",
    "m_fruits = [\"orange\"]\n"
   ]
  },
  {
   "cell_type": "code",
   "execution_count": 19,
   "id": "ad0a0e7c",
   "metadata": {},
   "outputs": [
    {
     "name": "stdout",
     "output_type": "stream",
     "text": [
      "['apple']\n"
     ]
    }
   ],
   "source": [
    "fruits = [\"banana\",\"apple\",\"orange\"]\n",
    "fruits.remove(\"banana\")\n",
    "fruit_remove = fruits.pop()\n",
    "print(fruits)"
   ]
  },
  {
   "cell_type": "code",
   "execution_count": 8,
   "id": "91fa816e",
   "metadata": {},
   "outputs": [
    {
     "name": "stdout",
     "output_type": "stream",
     "text": [
      "['apple', 'orange']\n"
     ]
    }
   ],
   "source": [
    "fruits = [\"banana\",\"apple\",\"orange\"]\n",
    "del fruits[0]\n",
    "print(fruits)"
   ]
  },
  {
   "cell_type": "code",
   "execution_count": null,
   "id": "8624583e",
   "metadata": {},
   "outputs": [],
   "source": [
    "fruits = [\"banana\",\"apple\",\"orange\"]\n",
    "x = fruits.copy()\n",
    "y = fruits[:]"
   ]
  },
  {
   "cell_type": "code",
   "execution_count": 11,
   "id": "fe866c37",
   "metadata": {},
   "outputs": [
    {
     "name": "stdout",
     "output_type": "stream",
     "text": [
      "[5, 4, 3, 2, 1]\n"
     ]
    }
   ],
   "source": [
    "x = [1,2,3,4,5,]\n",
    "x.reverse()\n",
    "print(x)"
   ]
  },
  {
   "cell_type": "code",
   "execution_count": 13,
   "id": "e5a6024a",
   "metadata": {},
   "outputs": [
    {
     "name": "stdout",
     "output_type": "stream",
     "text": [
      "[1, 2, 3, 4, 5]\n"
     ]
    }
   ],
   "source": [
    "x = [5,1,2,3,4,]\n",
    "x.sort()\n",
    "print(x)"
   ]
  },
  {
   "cell_type": "code",
   "execution_count": 15,
   "id": "282ef6e9",
   "metadata": {},
   "outputs": [
    {
     "name": "stdout",
     "output_type": "stream",
     "text": [
      "[5, 4, 3, 2, 1]\n"
     ]
    }
   ],
   "source": [
    "x = [5,1,2,3,4,]\n",
    "x.sort(reverse = True)\n",
    "print(x)"
   ]
  },
  {
   "cell_type": "code",
   "execution_count": 16,
   "id": "329d7691",
   "metadata": {},
   "outputs": [
    {
     "name": "stdout",
     "output_type": "stream",
     "text": [
      "[[1, 2, 3], [4, 5, 6], [7, 8, 9]]\n"
     ]
    }
   ],
   "source": [
    "nested_list = [[1,2,3],[4,5,6],[7,8,9]]\n",
    "print(nested_list)"
   ]
  },
  {
   "cell_type": "code",
   "execution_count": 17,
   "id": "f7b35b3f",
   "metadata": {},
   "outputs": [
    {
     "name": "stdout",
     "output_type": "stream",
     "text": [
      "3\n",
      "6\n",
      "1\n",
      "25\n"
     ]
    }
   ],
   "source": [
    "x = [1,2,3,4,5,6,2,2]\n",
    "count = x.count(2)\n",
    "print(count)\n",
    "print(max(x))\n",
    "print(min(x))\n",
    "print(sum(x))"
   ]
  },
  {
   "cell_type": "code",
   "execution_count": 7,
   "id": "467d4676",
   "metadata": {},
   "outputs": [
    {
     "ename": "NameError",
     "evalue": "name 'numbers' is not defined",
     "output_type": "error",
     "traceback": [
      "\u001b[1;31m---------------------------------------------------------------------------\u001b[0m",
      "\u001b[1;31mNameError\u001b[0m                                 Traceback (most recent call last)",
      "Cell \u001b[1;32mIn[7], line 3\u001b[0m\n\u001b[0;32m      1\u001b[0m \u001b[38;5;66;03m#write a program to swap first and last element in a list.\u001b[39;00m\n\u001b[0;32m      2\u001b[0m nubmers \u001b[38;5;241m=\u001b[39m [\u001b[38;5;241m1\u001b[39m,\u001b[38;5;241m2\u001b[39m,\u001b[38;5;241m3\u001b[39m,\u001b[38;5;241m4\u001b[39m,\u001b[38;5;241m5\u001b[39m]\n\u001b[1;32m----> 3\u001b[0m numbers[\u001b[38;5;241m0\u001b[39m] \u001b[38;5;241m=\u001b[39m x\n\u001b[0;32m      4\u001b[0m numbers[\u001b[38;5;241m-\u001b[39m\u001b[38;5;241m1\u001b[39m] \u001b[38;5;241m=\u001b[39m y\n\u001b[0;32m      6\u001b[0m x \u001b[38;5;241m=\u001b[39m numbers[\u001b[38;5;241m-\u001b[39m\u001b[38;5;241m1\u001b[39m]\n",
      "\u001b[1;31mNameError\u001b[0m: name 'numbers' is not defined"
     ]
    }
   ],
   "source": [
    "#write a program to swap first and last element in a list.\n",
    "nubmers = [1,2,3,4,5]\n",
    "numbers[0] = x\n",
    "numbers[-1] = y\n",
    "\n",
    "x = numbers[-1]\n",
    "y = numbers[0]\n",
    "print(numbers)"
   ]
  },
  {
   "cell_type": "code",
   "execution_count": 8,
   "id": "cce17b0d",
   "metadata": {},
   "outputs": [
    {
     "name": "stdout",
     "output_type": "stream",
     "text": [
      "9\n"
     ]
    }
   ],
   "source": [
    "my_list = [5,9,3,1,7]\n",
    "print(max(my_list))"
   ]
  },
  {
   "cell_type": "code",
   "execution_count": 26,
   "id": "8ae7dc0c",
   "metadata": {},
   "outputs": [
    {
     "name": "stdout",
     "output_type": "stream",
     "text": [
      "5\n"
     ]
    }
   ],
   "source": [
    "my_list = [5,9,3,1,7]\n",
    "my_list.sort()\n",
    "print(my_list[2])"
   ]
  },
  {
   "cell_type": "code",
   "execution_count": 8,
   "id": "1e0a32fb",
   "metadata": {},
   "outputs": [
    {
     "name": "stdout",
     "output_type": "stream",
     "text": [
      "('oranege', 'mango', 'apple', 'pinapple', 'banana', 'kiwi')\n"
     ]
    }
   ],
   "source": [
    "x = ('oranege','mango','apple','pinapple','banana',)\n",
    "y = list(x)\n",
    "y.append(\"kiwi\")\n",
    "x = tuple(y)\n",
    "print(x)"
   ]
  },
  {
   "cell_type": "code",
   "execution_count": null,
   "id": "4ebede23",
   "metadata": {},
   "outputs": [],
   "source": [
    "x = ('oranege','mango','apple','pinapple','banana',)\n",
    "y = ('kiwi','meion','stawberry')\n"
   ]
  },
  {
   "cell_type": "code",
   "execution_count": 1,
   "id": "27dc4865",
   "metadata": {},
   "outputs": [
    {
     "name": "stdout",
     "output_type": "stream",
     "text": [
      "oranege\n",
      "['mango', 'apple', 'pinapple']\n",
      "banana\n"
     ]
    }
   ],
   "source": [
    "fruits = ('oranege','mango','apple','pinapple','banana',)\n",
    "x,*y,z = fruits\n",
    "print(x)\n",
    "print(y)\n",
    "print(z)"
   ]
  },
  {
   "cell_type": "code",
   "execution_count": 3,
   "id": "3019b00d",
   "metadata": {},
   "outputs": [
    {
     "name": "stdout",
     "output_type": "stream",
     "text": [
      "{'pinapple', 'mango', 'cherry', 'banana', 'apple', 'oranege'}\n"
     ]
    }
   ],
   "source": [
    "set1 = {'oranege','mango','apple','pinapple','banana'}\n",
    "set1.add(\"cherry\")\n",
    "print(set1)"
   ]
  },
  {
   "cell_type": "code",
   "execution_count": 5,
   "id": "aab6f721",
   "metadata": {},
   "outputs": [
    {
     "name": "stdout",
     "output_type": "stream",
     "text": [
      "{'pinapple', 'mango', 'cherry', 'banana', 'apple', 'oranege', 'melon'}\n"
     ]
    }
   ],
   "source": [
    "set1 = {'oranege','mango','apple','pinapple','banana'}\n",
    "set2 = {'cherry','melon'}\n",
    "set1.update(set2)\n",
    "print(set1)"
   ]
  },
  {
   "cell_type": "code",
   "execution_count": 7,
   "id": "9e141392",
   "metadata": {},
   "outputs": [
    {
     "name": "stdout",
     "output_type": "stream",
     "text": [
      "{'pinapple', 'mango', 'apple', 'oranege'}\n"
     ]
    }
   ],
   "source": [
    "set1 = {'oranege','mango','apple','pinapple','banana'}\n",
    "set1.discard('banana')\n",
    "print(set1)"
   ]
  },
  {
   "cell_type": "code",
   "execution_count": 9,
   "id": "c5999763",
   "metadata": {},
   "outputs": [
    {
     "name": "stdout",
     "output_type": "stream",
     "text": [
      "{1, 2, 3, 5}\n"
     ]
    }
   ],
   "source": [
    "set1 = {1,2,3,}\n",
    "set2={2,5,3}\n",
    "union_set = set1.union(set2)\n",
    "print(union_set)\n"
   ]
  },
  {
   "cell_type": "code",
   "execution_count": 10,
   "id": "71bb5872",
   "metadata": {},
   "outputs": [
    {
     "name": "stdout",
     "output_type": "stream",
     "text": [
      "{2, 3}\n"
     ]
    }
   ],
   "source": [
    "set1 = {1,2,3,}\n",
    "set2={2,5,3}\n",
    "intersection_set = set1.intersection(set2)\n",
    "print(intersection_set)"
   ]
  },
  {
   "cell_type": "code",
   "execution_count": 11,
   "id": "50706896",
   "metadata": {},
   "outputs": [
    {
     "name": "stdout",
     "output_type": "stream",
     "text": [
      "{1}\n"
     ]
    }
   ],
   "source": [
    "set1 = {1,2,3,}\n",
    "set2={2,5,3}\n",
    "difference_set = set1.difference(set2)\n",
    "print(difference_set)"
   ]
  },
  {
   "cell_type": "code",
   "execution_count": 13,
   "id": "04db6458",
   "metadata": {},
   "outputs": [
    {
     "name": "stdout",
     "output_type": "stream",
     "text": [
      "{1, 5}\n"
     ]
    }
   ],
   "source": [
    "set1 = {1,2,3,}\n",
    "set2={2,5,3}\n",
    "symmetric_difference_set = set1.symmetric_difference(set2)\n",
    "print(symmetric_difference_set)"
   ]
  },
  {
   "cell_type": "code",
   "execution_count": 15,
   "id": "1d082082",
   "metadata": {},
   "outputs": [
    {
     "name": "stdout",
     "output_type": "stream",
     "text": [
      "[1, 2, 3, 4, 7]\n"
     ]
    }
   ],
   "source": [
    "# given two lists. find the elements that are present in both the lists.\n",
    "A =[1,2,3,4,5,6,7]\n",
    "B = [7,2,4,8,3,4,1,8,]\n",
    "c = set(A)\n",
    "d = set(B)\n",
    "intersection_set = c.intersection(d)\n",
    "print(list(intersection_set))\n"
   ]
  },
  {
   "cell_type": "code",
   "execution_count": 3,
   "id": "ca02ae0e",
   "metadata": {},
   "outputs": [
    {
     "name": "stdout",
     "output_type": "stream",
     "text": [
      "b is greater than a\n",
      "condition checked\n"
     ]
    }
   ],
   "source": [
    "a = 208\n",
    "b = 209\n",
    "if (b>a):\n",
    "    print(\"b is greater than a\")\n",
    "print(\"condition checked\")"
   ]
  },
  {
   "cell_type": "code",
   "execution_count": 2,
   "id": "84041b69",
   "metadata": {},
   "outputs": [
    {
     "name": "stdout",
     "output_type": "stream",
     "text": [
      "b is greater than a\n",
      "condition checked\n"
     ]
    }
   ],
   "source": [
    "a = 208\n",
    "b = 209\n",
    "if (b>a or b==a):\n",
    "    print(\"b is greater than a\")\n",
    "print(\"condition checked\")"
   ]
  },
  {
   "cell_type": "code",
   "execution_count": 4,
   "id": "56b3e1ca",
   "metadata": {},
   "outputs": [
    {
     "name": "stdout",
     "output_type": "stream",
     "text": [
      "a is greater than b\n"
     ]
    }
   ],
   "source": [
    "a = 208\n",
    "b = 201\n",
    "if (b>a):\n",
    "    print(\"b is greater than a\")\n",
    "else :\n",
    "    print(\"a is greater than b\")"
   ]
  },
  {
   "cell_type": "code",
   "execution_count": 5,
   "id": "b40e1d38",
   "metadata": {},
   "outputs": [
    {
     "name": "stdout",
     "output_type": "stream",
     "text": [
      "number\n"
     ]
    }
   ],
   "source": [
    "x = 9\n",
    "y = \"hello\"\n",
    "typ = type(x)\n",
    "\n",
    "if typ==int:\n",
    "    print(\"number\")\n",
    "else :\n",
    "    print(\"string\")"
   ]
  },
  {
   "cell_type": "code",
   "execution_count": 6,
   "id": "b59b069c",
   "metadata": {},
   "outputs": [
    {
     "name": "stdout",
     "output_type": "stream",
     "text": [
      "first number;22\n",
      "second number55\n",
      "b is greaterthan a\n"
     ]
    }
   ],
   "source": [
    "a = int(input(\"first number;\"))\n",
    "b = int(input(\"second number\"))\n",
    "\n",
    "if b>a:\n",
    "    print(\"b is greaterthan a\")\n",
    "elif a>b:\n",
    "    print(\"a is greaterthan b\")\n",
    "else:\n",
    "    print(\"a and b are equal\")"
   ]
  },
  {
   "cell_type": "code",
   "execution_count": 9,
   "id": "e8c38ec2",
   "metadata": {},
   "outputs": [
    {
     "name": "stdout",
     "output_type": "stream",
     "text": [
      "first number;25\n",
      "numer is positive\n"
     ]
    }
   ],
   "source": [
    "#write a python program to check a number taken from the user , is positive or negative.\n",
    "a = int(input(\"first number;\"))\n",
    "\n",
    "if(a>0):\n",
    "    print(\"numer is positive\")\n",
    "else:\n",
    "    print(\"number is negstive\")\n",
    "\n"
   ]
  },
  {
   "cell_type": "code",
   "execution_count": 11,
   "id": "fd38ae26",
   "metadata": {},
   "outputs": [
    {
     "name": "stdout",
     "output_type": "stream",
     "text": [
      "enter your mark :5\n",
      "your failed\n"
     ]
    }
   ],
   "source": [
    "#write a program to accept the mark from the user and print the grade.\n",
    "#marks      grade\n",
    "#>90        A\n",
    "#90-80      B\n",
    "#80-70      C\n",
    "#70-60      D\n",
    "#<60        Fsiled\n",
    "a = int(input(\"enter your mark :\"))\n",
    "\n",
    "if (a>90):\n",
    "    print(\"grade A\")\n",
    "elif(a<=90 and a>80):\n",
    "    print(\"grade B\")\n",
    "elif(a<=80 and a>70):\n",
    "    print(\"grade C\")\n",
    "elif(a<=70 and a>60):\n",
    "    print(\"grade D\")\n",
    "else:\n",
    "    print(\"your failed\")"
   ]
  },
  {
   "cell_type": "code",
   "execution_count": 12,
   "id": "bd4ee0f3",
   "metadata": {},
   "outputs": [
    {
     "name": "stdout",
     "output_type": "stream",
     "text": [
      "B\n"
     ]
    }
   ],
   "source": [
    "a = 6\n",
    "b = 25\n",
    "print(\"A\")if a > b else print(\"B\")"
   ]
  },
  {
   "cell_type": "code",
   "execution_count": 13,
   "id": "e282be58",
   "metadata": {},
   "outputs": [
    {
     "name": "stdout",
     "output_type": "stream",
     "text": [
      "A is greater than B\n"
     ]
    }
   ],
   "source": [
    "A = 66\n",
    "B = 55\n",
    "if A > B :print(\"A is greater than B\")"
   ]
  },
  {
   "cell_type": "code",
   "execution_count": 14,
   "id": "82acb51c",
   "metadata": {},
   "outputs": [
    {
     "name": "stdout",
     "output_type": "stream",
     "text": [
      "above 10\n",
      "but not above 20\n"
     ]
    }
   ],
   "source": [
    "x = 45\n",
    "\n",
    "if x >10:\n",
    "    print(\"above 10\")\n",
    "    if x >50:\n",
    "        print(\"above 50\")\n",
    "    else:\n",
    "        print(\"but not above 20\")\n",
    "else:\n",
    "    print(\"finished\")"
   ]
  },
  {
   "cell_type": "code",
   "execution_count": 15,
   "id": "304f1f6d",
   "metadata": {},
   "outputs": [
    {
     "name": "stdout",
     "output_type": "stream",
     "text": [
      "stage 1\n",
      "stage2\n",
      "47\n",
      "stage 3\n"
     ]
    }
   ],
   "source": [
    "a = 22\n",
    "b = 45\n",
    "\n",
    "print(\"stage 1\")\n",
    "if b>a:\n",
    "    pass\n",
    "\n",
    "print(\"stage2\")\n",
    "print(b+2)\n",
    "\n",
    "print(\"stage 3\")"
   ]
  },
  {
   "cell_type": "code",
   "execution_count": 4,
   "id": "fd230e8a",
   "metadata": {},
   "outputs": [
    {
     "name": "stdout",
     "output_type": "stream",
     "text": [
      "1\n",
      "2\n",
      "3\n",
      "4\n",
      "5\n",
      "finished\n"
     ]
    }
   ],
   "source": [
    "i = 1\n",
    "n =  5\n",
    "while i <= n  :\n",
    "    print(i)\n",
    "    i = i + 1\n",
    "    \n",
    "    \n",
    "print(\"finished\")"
   ]
  },
  {
   "cell_type": "code",
   "execution_count": 5,
   "id": "33e8aa20",
   "metadata": {},
   "outputs": [
    {
     "name": "stdout",
     "output_type": "stream",
     "text": [
      "total: 5050\n"
     ]
    }
   ],
   "source": [
    "i = 1\n",
    "n = 100\n",
    "total = 0\n",
    "while i<=n:\n",
    "    total = total +i\n",
    "    i = i+1\n",
    "print(\"total:\",total)"
   ]
  },
  {
   "cell_type": "code",
   "execution_count": 10,
   "id": "066edbe9",
   "metadata": {},
   "outputs": [
    {
     "name": "stdout",
     "output_type": "stream",
     "text": [
      "enter your number :786\n",
      "the reversed number is : 687\n"
     ]
    }
   ],
   "source": [
    "num = int(input(\"enter your number :\"))\n",
    "rev = 0\n",
    "\n",
    "while num !=0:\n",
    "    rem = num%10\n",
    "    rev = rev*10+rem\n",
    "    num = num // 10\n",
    "    \n",
    "print(\"the reversed number is :\",rev)"
   ]
  },
  {
   "cell_type": "code",
   "execution_count": 8,
   "id": "e7b0287e",
   "metadata": {},
   "outputs": [
    {
     "name": "stdout",
     "output_type": "stream",
     "text": [
      "10\n",
      "9\n",
      "8\n",
      "7\n",
      "6\n",
      "5\n",
      "4\n",
      "3\n",
      "2\n",
      "1\n",
      "start\n"
     ]
    }
   ],
   "source": [
    "i= 1\n",
    "n= 10\n",
    "while n>=i:\n",
    "    print(n)\n",
    "    n = n-1\n",
    "print(\"start\") "
   ]
  },
  {
   "cell_type": "code",
   "execution_count": 9,
   "id": "8bfd734f",
   "metadata": {},
   "outputs": [
    {
     "name": "stdout",
     "output_type": "stream",
     "text": [
      "1\n",
      "2\n",
      "5\n",
      "4\n",
      "8\n",
      "9\n"
     ]
    }
   ],
   "source": [
    "my_list = [1,2,5,4,8,9]\n",
    "i = 0\n",
    "\n",
    "while i<len(my_list):\n",
    "    print(my_list[i])\n",
    "    i = i+1"
   ]
  },
  {
   "cell_type": "code",
   "execution_count": 11,
   "id": "cf7231fa",
   "metadata": {},
   "outputs": [
    {
     "name": "stdout",
     "output_type": "stream",
     "text": [
      "[25, 81, 9, 16, 36]\n"
     ]
    }
   ],
   "source": [
    "my_list = [5,9,3,4,6]\n",
    "\n",
    "i = 0\n",
    "list2 = []\n",
    "\n",
    "while i<len(my_list):\n",
    "    x=my_list[i]*my_list[i]\n",
    "    list2.append(x)\n",
    "    i = i+1\n",
    "print(list2)"
   ]
  },
  {
   "cell_type": "code",
   "execution_count": 12,
   "id": "dd873d60",
   "metadata": {},
   "outputs": [
    {
     "name": "stdout",
     "output_type": "stream",
     "text": [
      "enter a number6\n",
      "enter a number85\n",
      "enter a number57\n",
      "enter a number6\n",
      "enter a number8\n",
      "enter a number0\n",
      "total= 162\n"
     ]
    }
   ],
   "source": [
    "total = 0\n",
    "number = int(input(\"enter a number\"))\n",
    "\n",
    "while number !=0:\n",
    "    total += number\n",
    "    number = int(input(\"enter a number\"))\n",
    "\n",
    "print('total=',total)"
   ]
  },
  {
   "cell_type": "code",
   "execution_count": 13,
   "id": "4ece6259",
   "metadata": {},
   "outputs": [
    {
     "name": "stdout",
     "output_type": "stream",
     "text": [
      "5\n",
      "10\n",
      "15\n",
      "20\n",
      "25\n",
      "30\n",
      "35\n",
      "40\n",
      "45\n",
      "50\n"
     ]
    }
   ],
   "source": [
    "i = 5\n",
    "n = 50\n",
    "while i <=n:\n",
    "    print(i)\n",
    "    i = i+5"
   ]
  },
  {
   "cell_type": "code",
   "execution_count": 12,
   "id": "f0161461",
   "metadata": {},
   "outputs": [
    {
     "name": "stdout",
     "output_type": "stream",
     "text": [
      "enter a size3\n",
      "enter a elements 0\n",
      "15\n",
      "enter a elements 1\n",
      "36\n",
      "enter a elements 2\n",
      "45\n",
      "enter a elements 3\n",
      "10\n",
      "user list is: [15, 36, 45, 10]\n",
      "the numbers that are multiples of 5\n",
      "15\n",
      "45\n",
      "10\n"
     ]
    }
   ],
   "source": [
    "mylist = []\n",
    "size = int(input(\"enter a size\"))\n",
    "i = 0\n",
    "\n",
    "while  i <=size:\n",
    "    print(\"enter a elements\",i)\n",
    "    item = int(input())\n",
    "    mylist.append(item)\n",
    "    i = i+1\n",
    "    \n",
    "print('user list is:',mylist)\n",
    "print(\"the numbers that are multiples of 5\")\n",
    "l = 0\n",
    "\n",
    "while l<len(mylist):\n",
    "    if mylist[l]%5==0:\n",
    "        print(mylist[l])\n",
    "    l=l+1"
   ]
  },
  {
   "cell_type": "code",
   "execution_count": 3,
   "id": "d98b1600",
   "metadata": {},
   "outputs": [
    {
     "name": "stdout",
     "output_type": "stream",
     "text": [
      "Enter the element:55\n",
      "55\n",
      "Finished\n"
     ]
    }
   ],
   "source": [
    "values = input(\"Enter the element:\")\n",
    "u_list = values.split(\",\")\n",
    "mylist = [int(num) for num in u_list]\n",
    "\n",
    "for num in mylist:\n",
    "    if num % 5 == 0:\n",
    "        print(num)\n",
    "\n",
    "print(\"Finished\")"
   ]
  },
  {
   "cell_type": "code",
   "execution_count": 1,
   "id": "a459a5ff",
   "metadata": {},
   "outputs": [
    {
     "name": "stdout",
     "output_type": "stream",
     "text": [
      "b\n",
      "a\n",
      "n\n",
      "a\n",
      "n\n",
      "a\n"
     ]
    }
   ],
   "source": [
    "for x in 'banana':\n",
    "    print(x)"
   ]
  },
  {
   "cell_type": "code",
   "execution_count": 2,
   "id": "f8fd86b1",
   "metadata": {},
   "outputs": [
    {
     "name": "stdout",
     "output_type": "stream",
     "text": [
      "apple\n"
     ]
    }
   ],
   "source": [
    "fruits = ['apple','banana','cherry']\n",
    "for x in fruits:\n",
    "    if x == 'banana':\n",
    "        break\n",
    "    print(x)"
   ]
  },
  {
   "cell_type": "code",
   "execution_count": 4,
   "id": "11d3f953",
   "metadata": {},
   "outputs": [
    {
     "name": "stdout",
     "output_type": "stream",
     "text": [
      "apple\n",
      "cherry\n"
     ]
    }
   ],
   "source": [
    "fruits = ['apple','banana','cherry']\n",
    "for x in fruits:\n",
    "    if x == 'banana':\n",
    "        continue\n",
    "    print(x)"
   ]
  },
  {
   "cell_type": "code",
   "execution_count": 5,
   "id": "ca89b826",
   "metadata": {},
   "outputs": [
    {
     "name": "stdout",
     "output_type": "stream",
     "text": [
      "0\n",
      "1\n",
      "2\n",
      "3\n",
      "4\n",
      "5\n",
      "6\n",
      "7\n",
      "8\n",
      "9\n"
     ]
    }
   ],
   "source": [
    "for x in range(10):\n",
    "    print(x)"
   ]
  },
  {
   "cell_type": "code",
   "execution_count": 6,
   "id": "8b31bb86",
   "metadata": {},
   "outputs": [
    {
     "name": "stdout",
     "output_type": "stream",
     "text": [
      "2\n",
      "3\n",
      "4\n",
      "5\n",
      "6\n",
      "7\n",
      "8\n",
      "9\n"
     ]
    }
   ],
   "source": [
    "for x in range(2,10):\n",
    "    print(x)"
   ]
  },
  {
   "cell_type": "code",
   "execution_count": 7,
   "id": "14c853eb",
   "metadata": {},
   "outputs": [
    {
     "name": "stdout",
     "output_type": "stream",
     "text": [
      "2\n",
      "4\n",
      "6\n",
      "8\n",
      "10\n",
      "12\n",
      "14\n",
      "16\n",
      "18\n"
     ]
    }
   ],
   "source": [
    "for x in range(2,20,2):\n",
    "    print(x)"
   ]
  },
  {
   "cell_type": "code",
   "execution_count": 23,
   "id": "d10b4d1d",
   "metadata": {},
   "outputs": [
    {
     "name": "stdout",
     "output_type": "stream",
     "text": [
      "[1, 9, 25, 49, 81, 121, 169, 225, 289, 361, 441, 529, 625, 729, 841, 961, 1089, 1225, 1369, 1521, 1681, 1849, 2025, 2209, 2401, 2601, 2809, 3025, 3249, 3481, 3721, 3969, 4225, 4489, 4761, 5041, 5329, 5625, 5929, 6241, 6561, 6889, 7225, 7569, 7921, 8281, 8649, 9025, 9409, 9801]\n"
     ]
    }
   ],
   "source": [
    "my_list = []\n",
    "for x in range(1,101,2):\n",
    "    result = (x*x)\n",
    "    my_list.append (result) \n",
    "print(my_list)"
   ]
  },
  {
   "cell_type": "code",
   "execution_count": 24,
   "id": "cf4e3943",
   "metadata": {},
   "outputs": [
    {
     "ename": "SyntaxError",
     "evalue": "invalid syntax (546833911.py, line 2)",
     "output_type": "error",
     "traceback": [
      "\u001b[1;36m  Cell \u001b[1;32mIn[24], line 2\u001b[1;36m\u001b[0m\n\u001b[1;33m    x = [::-1]\u001b[0m\n\u001b[1;37m         ^\u001b[0m\n\u001b[1;31mSyntaxError\u001b[0m\u001b[1;31m:\u001b[0m invalid syntax\n"
     ]
    }
   ],
   "source": [
    "for x in range(1,10):\n",
    "    x = [::-1]\n",
    "    print(x)"
   ]
  },
  {
   "cell_type": "code",
   "execution_count": 25,
   "id": "3926ace4",
   "metadata": {},
   "outputs": [
    {
     "name": "stdout",
     "output_type": "stream",
     "text": [
      "red apple\n",
      "red banana\n",
      "red cherry\n",
      "------------\n",
      "big apple\n",
      "big banana\n",
      "big cherry\n",
      "------------\n",
      "tasty apple\n",
      "tasty banana\n",
      "tasty cherry\n",
      "------------\n"
     ]
    }
   ],
   "source": [
    "colors = ['red','big','tasty']\n",
    "fruits = ['apple','banana','cherry']\n",
    "for x in colors:\n",
    "    for y in fruits:\n",
    "        print(x,y)\n",
    "    print('------------')"
   ]
  },
  {
   "cell_type": "code",
   "execution_count": 26,
   "id": "049ce7aa",
   "metadata": {},
   "outputs": [
    {
     "name": "stdout",
     "output_type": "stream",
     "text": [
      "the sum of squares is :  12.25\n",
      "the sum of squares is :  3148.25\n",
      "the sum of squares is :  10373.25\n",
      "the sum of squares is :  14598.25\n",
      "the sum of squares is :  18567.25\n",
      "the sum of squares is :  19192.25\n",
      "the sum of squares is :  19196.25\n",
      "the sum of squares is :  19221.25\n",
      "the sum of squares is :  29022.25\n"
     ]
    }
   ],
   "source": [
    "num = [3.5,56,85,65,63,25,2,5,99]\n",
    "sum_=0\n",
    "for x in num:\n",
    "    sqr = x**2\n",
    "    sum_=sum_+sqr\n",
    "    print('the sum of squares is : ',sum_)"
   ]
  },
  {
   "cell_type": "code",
   "execution_count": 1,
   "id": "628126a4",
   "metadata": {},
   "outputs": [
    {
     "name": "stdout",
     "output_type": "stream",
     "text": [
      "11 is a prime number\n",
      "13 is a prime number\n",
      "17 is a prime number\n",
      "19 is a prime number\n",
      "23 is a prime number\n",
      "29 is a prime number\n"
     ]
    }
   ],
   "source": [
    "for num in range(10,30):\n",
    "    for i in range(2,num):\n",
    "        if num%i ==0:\n",
    "            break\n",
    "    else:\n",
    "        print(num,'is a prime number')"
   ]
  },
  {
   "cell_type": "code",
   "execution_count": 2,
   "id": "71bfc68b",
   "metadata": {},
   "outputs": [
    {
     "name": "stdout",
     "output_type": "stream",
     "text": [
      "7 x 1 = 7\n",
      "7 x 2 = 14\n",
      "7 x 3 = 21\n",
      "7 x 4 = 28\n",
      "7 x 5 = 35\n",
      "7 x 6 = 42\n",
      "7 x 7 = 49\n",
      "7 x 8 = 56\n",
      "7 x 9 = 63\n",
      "7 x 10 = 70\n",
      "7 x 11 = 77\n",
      "7 x 12 = 84\n",
      "7 x 13 = 91\n",
      "7 x 14 = 98\n",
      "7 x 15 = 105\n",
      "7 x 16 = 112\n",
      "7 x 17 = 119\n",
      "7 x 18 = 126\n",
      "7 x 19 = 133\n",
      "7 x 20 = 140\n"
     ]
    }
   ],
   "source": [
    "n =7\n",
    "for i in range(1, 21):\n",
    "    product = n * i\n",
    "    print('%d x %d = %d'%(n,i,product))"
   ]
  },
  {
   "cell_type": "code",
   "execution_count": 6,
   "id": "9277d5cc",
   "metadata": {},
   "outputs": [
    {
     "name": "stdout",
     "output_type": "stream",
     "text": [
      "1 \n",
      "1 2 \n",
      "1 2 3 \n",
      "1 2 3 4 \n",
      "1 2 3 4 5 \n",
      "1 2 3 4 5 6 \n",
      "1 2 3 4 5 6 7 \n"
     ]
    }
   ],
   "source": [
    "row = 7\n",
    "for i in range (1,row + 1):\n",
    "    for m in range(1,i+1):\n",
    "        print(m,end=' ')\n",
    "    print()"
   ]
  },
  {
   "cell_type": "code",
   "execution_count": 7,
   "id": "d3591278",
   "metadata": {},
   "outputs": [
    {
     "name": "stdout",
     "output_type": "stream",
     "text": [
      "7 6 5 4 3 2 1 \n",
      "6 5 4 3 2 1 \n",
      "5 4 3 2 1 \n",
      "4 3 2 1 \n",
      "3 2 1 \n",
      "2 1 \n",
      "1 \n",
      "\n"
     ]
    }
   ],
   "source": [
    "n = 7\n",
    "k = 7\n",
    "for i in range(0,n+1):\n",
    "    for j in range(k-i,0,-1):\n",
    "        print(j,end=\" \")\n",
    "    print()"
   ]
  },
  {
   "cell_type": "code",
   "execution_count": 8,
   "id": "48ff0d22",
   "metadata": {},
   "outputs": [
    {
     "name": "stdout",
     "output_type": "stream",
     "text": [
      "0 0 0 0 0 0 0 \n",
      "1 1 1 1 1 1 \n",
      "2 2 2 2 2 \n",
      "3 3 3 3 \n",
      "4 4 4 \n",
      "5 5 \n",
      "6 \n",
      "\n"
     ]
    }
   ],
   "source": [
    "n = 7\n",
    "k = 7\n",
    "for i in range(0,n+1):\n",
    "    for j in range(k-i,0,-1):\n",
    "        print(i,end=\" \")\n",
    "    print()"
   ]
  },
  {
   "cell_type": "code",
   "execution_count": 10,
   "id": "433446c1",
   "metadata": {},
   "outputs": [
    {
     "name": "stdout",
     "output_type": "stream",
     "text": [
      "* \n",
      "* * \n",
      "* * * \n",
      "* * * * \n",
      "* * * * * \n",
      "* * * * * * \n",
      "* * * * * * * \n",
      "* * * * * * \n",
      "* * * * * \n",
      "* * * * \n",
      "* * * \n",
      "* * \n",
      "* \n",
      "\n"
     ]
    }
   ],
   "source": [
    "rows = 7\n",
    "for i in range (0,rows):\n",
    "    for j in range (0,i+1):\n",
    "        print(\"*\",end=\" \")\n",
    "    print()\n",
    "    \n",
    "for i in range(rows,0,-1):\n",
    "    for j in range(0,i-1):\n",
    "        print(\"*\",end=\" \")\n",
    "    print()"
   ]
  },
  {
   "cell_type": "code",
   "execution_count": 1,
   "id": "478b3b6b",
   "metadata": {},
   "outputs": [
    {
     "name": "stdout",
     "output_type": "stream",
     "text": [
      "['apple', 'banana', 'mango']\n"
     ]
    }
   ],
   "source": [
    "fruits = ['apple','banana','cherry','kiwi','mango']\n",
    "newlist = []\n",
    "for x in fruits:\n",
    "    if 'a'in x:\n",
    "        newlist.append(x)\n",
    "print(newlist)"
   ]
  },
  {
   "cell_type": "code",
   "execution_count": 3,
   "id": "ecc65eef",
   "metadata": {},
   "outputs": [
    {
     "name": "stdout",
     "output_type": "stream",
     "text": [
      "['apple', 'cherry']\n"
     ]
    }
   ],
   "source": [
    "fruits = ['apple','banana','cherry','kiwi','mango']\n",
    "newlist = [x for x in fruits if 'e' in x]\n",
    "print(newlist)"
   ]
  },
  {
   "cell_type": "code",
   "execution_count": 34,
   "id": "9d5bdced",
   "metadata": {},
   "outputs": [
    {
     "name": "stdout",
     "output_type": "stream",
     "text": [
      "['apple', 'banana', 'cherry', 'kiwi', 'mango']\n"
     ]
    }
   ],
   "source": [
    "fruits = ['apple','banana','cherry','kiwi','mango']\n",
    "newlist3 = [x for x in fruits]\n",
    "print(newlist3)"
   ]
  },
  {
   "cell_type": "code",
   "execution_count": 36,
   "id": "036451de",
   "metadata": {},
   "outputs": [
    {
     "name": "stdout",
     "output_type": "stream",
     "text": [
      "['APPLE', 'BANANA', 'CHERRY', 'KIWI', 'MANGO']\n"
     ]
    }
   ],
   "source": [
    "fruits = ['apple','banana','cherry','kiwi','mango']\n",
    "newlist = [x.upper()for x in fruits]\n",
    "print(newlist)"
   ]
  },
  {
   "cell_type": "code",
   "execution_count": null,
   "id": "acb9ce08",
   "metadata": {},
   "outputs": [],
   "source": [
    "newlist = [x*x for x in range(10)]\n",
    "print(n)"
   ]
  },
  {
   "cell_type": "code",
   "execution_count": 1,
   "id": "15af9399",
   "metadata": {},
   "outputs": [
    {
     "name": "stdout",
     "output_type": "stream",
     "text": [
      "0 the\n",
      "1 big\n",
      "2 bang\n",
      "3 theory\n"
     ]
    }
   ],
   "source": [
    "for index, value in enumerate(['the','big','bang','theory']):\n",
    "    print(index,value)"
   ]
  },
  {
   "cell_type": "code",
   "execution_count": 2,
   "id": "7c32533f",
   "metadata": {},
   "outputs": [
    {
     "name": "stdout",
     "output_type": "stream",
     "text": [
      "<enumerate object at 0x0000021DD3F834C0>\n",
      "<class 'enumerate'>\n",
      "[(0, 'bread'), (1, 'milk'), (2, 'butter')]\n",
      "<class 'enumerate'>\n"
     ]
    }
   ],
   "source": [
    "grocery = ['bread','milk','butter']\n",
    "enumerategrocery = enumerate(grocery)\n",
    "print(enumerategrocery)\n",
    "print(type(enumerategrocery))\n",
    "print(list(enumerategrocery))\n",
    "enumerategrocery = enumerate(grocery,10)\n",
    "print(type(enumerategrocery))"
   ]
  },
  {
   "cell_type": "markdown",
   "id": "9868ad5f",
   "metadata": {},
   "source": [
    "newlist1 ="
   ]
  },
  {
   "cell_type": "code",
   "execution_count": 9,
   "id": "9acf1934",
   "metadata": {},
   "outputs": [
    {
     "name": "stdout",
     "output_type": "stream",
     "text": [
      "what is your name? I am apple\n",
      "what is your colour? I am red\n",
      "what is your shape? I am a circle\n"
     ]
    }
   ],
   "source": [
    "#zip\n",
    "question = ['name','colour','shape']\n",
    "answer = ['apple','red','a circle']\n",
    "for question, answer in zip(question, answer):\n",
    "    print(\"what is your {0}? I am {1}\".format(question, answer))"
   ]
  },
  {
   "cell_type": "code",
   "execution_count": 11,
   "id": "f3012216",
   "metadata": {},
   "outputs": [
    {
     "name": "stdout",
     "output_type": "stream",
     "text": [
      "the list in sorted order is : \n",
      "1 1 1 3 3 3 4 5 5 7 8 8 9 9 \n",
      "the listin sorted order (with out duplicates) is :\n",
      "1 3 4 5 7 8 9 "
     ]
    }
   ],
   "source": [
    "list1 = [1,5,8,3,5,8,9,4,1,3,9,3,1,7]\n",
    "print(\"the list in sorted order is : \")\n",
    "for i in sorted(list1):\n",
    "    print(i,end=\" \")\n",
    "print()\n",
    "\n",
    "print(\"the listin sorted order (with out duplicates) is :\")\n",
    "\n",
    "for i in sorted(set(list1)):\n",
    "    print(i, end=\" \")"
   ]
  },
  {
   "cell_type": "code",
   "execution_count": 12,
   "id": "e423d491",
   "metadata": {},
   "outputs": [
    {
     "name": "stdout",
     "output_type": "stream",
     "text": [
      "the list in reversed orderb is : \n",
      "7 1 3 9 3 1 4 9 8 5 3 8 5 1 "
     ]
    }
   ],
   "source": [
    "list1 = [1,5,8,3,5,8,9,4,1,3,9,3,1,7]\n",
    "print(\"the list in reversed orderb is : \")\n",
    "for i in reversed(list1):\n",
    "    print(i,end=\" \")"
   ]
  },
  {
   "cell_type": "code",
   "execution_count": 14,
   "id": "e5608848",
   "metadata": {},
   "outputs": [
    {
     "name": "stdout",
     "output_type": "stream",
     "text": [
      "a\n",
      "e\n",
      "i\n",
      "o\n",
      "u\n"
     ]
    }
   ],
   "source": [
    "vowels = ['a','e','i','o','u']\n",
    "vowels_iter = iter(vowels)\n",
    "print(next(vowels_iter))\n",
    "print(next(vowels_iter))\n",
    "print(next(vowels_iter))\n",
    "print(next(vowels_iter))\n",
    "print(next(vowels_iter))"
   ]
  },
  {
   "cell_type": "code",
   "execution_count": 15,
   "id": "9b18d4b0",
   "metadata": {},
   "outputs": [
    {
     "name": "stdout",
     "output_type": "stream",
     "text": [
      "a\n",
      "e\n",
      "i\n",
      "o\n",
      "u\n"
     ]
    }
   ],
   "source": [
    "vowels_iter = iter(vowels)\n",
    "for i in vowels_iter:\n",
    "    print(i)"
   ]
  },
  {
   "cell_type": "code",
   "execution_count": 18,
   "id": "6244ad9f",
   "metadata": {},
   "outputs": [
    {
     "name": "stdout",
     "output_type": "stream",
     "text": [
      "mustang\n",
      "ford\n"
     ]
    }
   ],
   "source": [
    "mydict = {\n",
    "    \"brand\" : \"ford\",\n",
    "    \"model\" : \"mustang\",\n",
    "    \"year\"  : 1964\n",
    "}\n",
    "x = mydict[\"model\"]\n",
    "print(x)\n",
    "y = mydict.get(\"brand\")\n",
    "print(y)"
   ]
  },
  {
   "cell_type": "code",
   "execution_count": 19,
   "id": "a02405e0",
   "metadata": {},
   "outputs": [
    {
     "name": "stdout",
     "output_type": "stream",
     "text": [
      "dict_keys(['brand', 'model', 'year'])\n",
      "dict_values(['ford', 'mustang', 1964])\n",
      "dict_items([('brand', 'ford'), ('model', 'mustang'), ('year', 1964)])\n"
     ]
    }
   ],
   "source": [
    "x = mydict.keys()\n",
    "print(x)\n",
    "y = mydict.values()\n",
    "print(y)\n",
    "z = mydict.items()\n",
    "print(z)"
   ]
  },
  {
   "cell_type": "code",
   "execution_count": 20,
   "id": "6917d3f5",
   "metadata": {},
   "outputs": [
    {
     "name": "stdout",
     "output_type": "stream",
     "text": [
      "{'brand': 'ford', 'model': 'mustang', 'year': 2018}\n"
     ]
    }
   ],
   "source": [
    "x  = {\n",
    "    \"brand\" : \"ford\",\n",
    "    \"model\" : \"mustang\",\n",
    "    \"year\"  : 1964\n",
    "}\n",
    "\n",
    "x [\"year\"] = 2018\n",
    "print(x)"
   ]
  },
  {
   "cell_type": "code",
   "execution_count": 24,
   "id": "e9a5e32e",
   "metadata": {},
   "outputs": [
    {
     "name": "stdout",
     "output_type": "stream",
     "text": [
      "{'brand': 'ford', 'model': 'mustang', 'year': 2020}\n"
     ]
    }
   ],
   "source": [
    "x = {\n",
    "    \"brand\" : \"ford\",\n",
    "    \"model\" : \"mustang\",\n",
    "    \"year\"  : 1964\n",
    "}\n",
    "x.update({\"year\":2020})\n",
    "\n",
    "print(x)"
   ]
  },
  {
   "cell_type": "code",
   "execution_count": 25,
   "id": "d8bfd471",
   "metadata": {},
   "outputs": [
    {
     "name": "stdout",
     "output_type": "stream",
     "text": [
      "{'brand': 'ford', 'model': 'mustang', 'year': 2020, 'colour': 'red'}\n"
     ]
    }
   ],
   "source": [
    "x[\"colour\"] = \"red\"\n",
    "print(x)"
   ]
  },
  {
   "cell_type": "code",
   "execution_count": 26,
   "id": "89901e45",
   "metadata": {},
   "outputs": [
    {
     "name": "stdout",
     "output_type": "stream",
     "text": [
      "{'brand': 'ford', 'year': 2020, 'colour': 'red'}\n"
     ]
    }
   ],
   "source": [
    "x.pop(\"model\")\n",
    "print(x)\n"
   ]
  },
  {
   "cell_type": "code",
   "execution_count": 27,
   "id": "99fbf9b9",
   "metadata": {},
   "outputs": [
    {
     "name": "stdout",
     "output_type": "stream",
     "text": [
      "{'brand': 'ford', 'year': 2020}\n"
     ]
    }
   ],
   "source": [
    "x.popitem()\n",
    "print(x)"
   ]
  },
  {
   "cell_type": "code",
   "execution_count": 28,
   "id": "72891707",
   "metadata": {},
   "outputs": [
    {
     "name": "stdout",
     "output_type": "stream",
     "text": [
      "brand\n",
      "model\n",
      "year\n"
     ]
    }
   ],
   "source": [
    "x = {\n",
    "    \"brand\" : \"ford\",\n",
    "    \"model\" : \"mustang\",\n",
    "    \"year\"  : 1964\n",
    "}\n",
    "for i in x:\n",
    "    print(i)"
   ]
  },
  {
   "cell_type": "code",
   "execution_count": 29,
   "id": "b4c3f939",
   "metadata": {},
   "outputs": [
    {
     "name": "stdout",
     "output_type": "stream",
     "text": [
      "ford\n",
      "mustang\n",
      "1964\n"
     ]
    }
   ],
   "source": [
    "for i in x:\n",
    "    print(x[i])"
   ]
  },
  {
   "cell_type": "code",
   "execution_count": 30,
   "id": "2e7c9071",
   "metadata": {},
   "outputs": [
    {
     "name": "stdout",
     "output_type": "stream",
     "text": [
      "brand\n",
      "model\n",
      "year\n"
     ]
    }
   ],
   "source": [
    "y = {\n",
    "    \"brand\" : \"ford\",\n",
    "    \"model\" : \"mustang\",\n",
    "    \"year\"  : 1964\n",
    "}\n",
    "for x in y.keys():\n",
    "    print(x)"
   ]
  },
  {
   "cell_type": "code",
   "execution_count": 31,
   "id": "ff1d6f93",
   "metadata": {},
   "outputs": [
    {
     "name": "stdout",
     "output_type": "stream",
     "text": [
      "ford\n",
      "mustang\n",
      "1964\n"
     ]
    }
   ],
   "source": [
    "for x in y.values():\n",
    "    print(x)"
   ]
  },
  {
   "cell_type": "code",
   "execution_count": 1,
   "id": "d65150b5",
   "metadata": {},
   "outputs": [
    {
     "name": "stdout",
     "output_type": "stream",
     "text": [
      "heloo\n"
     ]
    }
   ],
   "source": [
    "def greet():\n",
    "    print(\"heloo\")\n",
    "    \n",
    "greet()\n"
   ]
  },
  {
   "cell_type": "code",
   "execution_count": 3,
   "id": "6b073dc5",
   "metadata": {},
   "outputs": [
    {
     "name": "stdout",
     "output_type": "stream",
     "text": [
      "hello jaseem\n",
      "hello 7\n"
     ]
    }
   ],
   "source": [
    "def name_fn(name):\n",
    "    print(\"hello\",name)\n",
    "    \n",
    "name_fn(\"jaseem\")\n",
    "name_fn(7)"
   ]
  },
  {
   "cell_type": "code",
   "execution_count": 4,
   "id": "1b1b3c42",
   "metadata": {},
   "outputs": [
    {
     "name": "stdout",
     "output_type": "stream",
     "text": [
      "enter name :jaseem\n",
      "hello jaseem\n"
     ]
    }
   ],
   "source": [
    "def name(nm):\n",
    "    print(\"hello\",nm)\n",
    "    \n",
    "name(input(\"enter name :\"))"
   ]
  },
  {
   "cell_type": "code",
   "execution_count": 15,
   "id": "af103671",
   "metadata": {},
   "outputs": [
    {
     "name": "stdout",
     "output_type": "stream",
     "text": [
      "enter name :basith\n",
      "hello basith\n"
     ]
    }
   ],
   "source": [
    "def name(nm):\n",
    "    print(\"hello\",nm)\n",
    "x    \n",
    "name(input(\"enter name :\"))"
   ]
  },
  {
   "cell_type": "code",
   "execution_count": 5,
   "id": "46a1a31a",
   "metadata": {},
   "outputs": [
    {
     "name": "stdout",
     "output_type": "stream",
     "text": [
      "sum : 11\n"
     ]
    }
   ],
   "source": [
    "def add_numbers ():\n",
    "    num1 = 5\n",
    "    num2 = 6\n",
    "    sum_ = num1 + num2\n",
    "    print('sum :',sum_)\n",
    "\n",
    "add_numbers()"
   ]
  },
  {
   "cell_type": "code",
   "execution_count": null,
   "id": "f467038e",
   "metadata": {},
   "outputs": [],
   "source": []
  },
  {
   "cell_type": "code",
   "execution_count": null,
   "id": "d4274af1",
   "metadata": {},
   "outputs": [],
   "source": []
  },
  {
   "cell_type": "code",
   "execution_count": null,
   "id": "dd9ed262",
   "metadata": {},
   "outputs": [],
   "source": []
  },
  {
   "cell_type": "code",
   "execution_count": null,
   "id": "5947ce64",
   "metadata": {},
   "outputs": [],
   "source": []
  },
  {
   "cell_type": "code",
   "execution_count": 7,
   "id": "f49cda5f",
   "metadata": {},
   "outputs": [
    {
     "name": "stdout",
     "output_type": "stream",
     "text": [
      "enter number56\n",
      "enter number62\n",
      "sum:  118\n"
     ]
    }
   ],
   "source": [
    "x =int(input(\"enter number\"))\n",
    "y =int(input(\"enter number\"))\n",
    "add_numbers(x,y)"
   ]
  },
  {
   "cell_type": "code",
   "execution_count": 11,
   "id": "f87dc5c4",
   "metadata": {},
   "outputs": [
    {
     "name": "stdout",
     "output_type": "stream",
     "text": [
      "sum:  13\n",
      "sum:  134\n",
      "sum:  63\n"
     ]
    }
   ],
   "source": [
    "def add_numbers(a =6 , b =7):\n",
    "    sum_ = a+b\n",
    "    print(\"sum: \",sum_)\n",
    "add_numbers()\n",
    "add_numbers(89,45)\n",
    "add_numbers(b = 57)"
   ]
  },
  {
   "cell_type": "code",
   "execution_count": 13,
   "id": "50ea131a",
   "metadata": {},
   "outputs": [
    {
     "name": "stdout",
     "output_type": "stream",
     "text": [
      "sum =  100\n",
      "sum =  1855\n"
     ]
    }
   ],
   "source": [
    "def add_numbers(a =6 , b =7):\n",
    "    sum_ = a+b\n",
    "    print(\"sum: \",sum_)\n",
    "add_numbers()\n",
    "add_numbers(89,45)\n",
    "add_numbers(b = 57)"
   ]
  },
  {
   "cell_type": "code",
   "execution_count": null,
   "id": "02a29305",
   "metadata": {},
   "outputs": [],
   "source": []
  },
  {
   "cell_type": "code",
   "execution_count": 14,
   "id": "5e60c44d",
   "metadata": {},
   "outputs": [
    {
     "name": "stdout",
     "output_type": "stream",
     "text": [
      "square  1296\n"
     ]
    }
   ],
   "source": [
    "def find_square(num):\n",
    "    result = num*num\n",
    "    return result\n",
    "\n",
    "square = find_square(36)\n",
    "print(\"square \",square)"
   ]
  },
  {
   "cell_type": "code",
   "execution_count": 15,
   "id": "2d673a78",
   "metadata": {},
   "outputs": [
    {
     "name": "stdout",
     "output_type": "stream",
     "text": [
      "result:  2016 92 -20\n"
     ]
    }
   ],
   "source": [
    "def calculation(num1,num2):\n",
    "    sqr = num1 * num2\n",
    "    add = num1 + num2\n",
    "    sub = num1 - num2\n",
    "    return sqr,add,sub\n",
    "x,y,z = calculation(36,56)\n",
    "print(\"result: \",x,y,z)"
   ]
  },
  {
   "cell_type": "code",
   "execution_count": 16,
   "id": "09d00973",
   "metadata": {},
   "outputs": [
    {
     "name": "stdout",
     "output_type": "stream",
     "text": [
      "the factorial of 5 is 120\n"
     ]
    }
   ],
   "source": [
    "def factorial(x):\n",
    "    if x == 1:\n",
    "        return 1 \n",
    "    else:\n",
    "        return(x* factorial(x-1))\n",
    "\n",
    "num = 5\n",
    "print(\"the factorial of\",num,\"is\",factorial(num))"
   ]
  },
  {
   "cell_type": "code",
   "execution_count": 17,
   "id": "4d4cf653",
   "metadata": {},
   "outputs": [
    {
     "name": "stdout",
     "output_type": "stream",
     "text": [
      "enter number : 5\n",
      "the factorial of 5 is 120\n"
     ]
    }
   ],
   "source": [
    "def factorial(x):\n",
    "    if x == 1:\n",
    "        return 1 \n",
    "    else:\n",
    "        return(x* factorial(x-1))\n",
    "num = int(input(\"enter number : \"))\n",
    "print(\"the factorial of\",num,\"is\",factorial(num))"
   ]
  },
  {
   "cell_type": "code",
   "execution_count": 23,
   "id": "ef731c6d",
   "metadata": {},
   "outputs": [
    {
     "name": "stdout",
     "output_type": "stream",
     "text": [
      "enter number 6\n",
      "enven\n"
     ]
    }
   ],
   "source": [
    "#define a function that checks if a number is evem or odd.\n",
    "def number_(num):\n",
    "    if num%2== 0:\n",
    "        print(\"enven\")\n",
    "    else:\n",
    "        print(\"odd\")\n",
    "        \n",
    "number_ (int(input('enter number ')))\n"
   ]
  },
  {
   "cell_type": "code",
   "execution_count": 25,
   "id": "cf4593a1",
   "metadata": {},
   "outputs": [
    {
     "name": "stdout",
     "output_type": "stream",
     "text": [
      "enter number 5\n",
      "positive\n"
     ]
    }
   ],
   "source": [
    "def number_(num):\n",
    "    if num> 0:\n",
    "        print(\"positive\")\n",
    "    else:\n",
    "        print(\"negative\")\n",
    "        \n",
    "number_ (int(input('enter number ')))\n"
   ]
  },
  {
   "cell_type": "code",
   "execution_count": 1,
   "id": "9984aa37",
   "metadata": {},
   "outputs": [
    {
     "name": "stdout",
     "output_type": "stream",
     "text": [
      "hello world\n"
     ]
    }
   ],
   "source": [
    "greet = lambda : print(\"hello world\")\n",
    "greet()"
   ]
  },
  {
   "cell_type": "code",
   "execution_count": 2,
   "id": "e1753e49",
   "metadata": {},
   "outputs": [
    {
     "name": "stdout",
     "output_type": "stream",
     "text": [
      "hey there,  jaseem\n"
     ]
    }
   ],
   "source": [
    "greet_user = lambda name : print(\"hey there, \",name)\n",
    "greet_user(\"jaseem\")"
   ]
  },
  {
   "cell_type": "code",
   "execution_count": 14,
   "id": "56db0e15",
   "metadata": {},
   "outputs": [
    {
     "name": "stdout",
     "output_type": "stream",
     "text": [
      "13\n"
     ]
    }
   ],
   "source": [
    "import example\n",
    "\n",
    "x = example.add(7,6)\n",
    "print(x)"
   ]
  },
  {
   "cell_type": "code",
   "execution_count": 6,
   "id": "2247eb9a",
   "metadata": {},
   "outputs": [
    {
     "name": "stdout",
     "output_type": "stream",
     "text": [
      "3.141592653589793\n"
     ]
    }
   ],
   "source": [
    "import math\n",
    "print (math.pi)"
   ]
  },
  {
   "cell_type": "code",
   "execution_count": 7,
   "id": "2375f940",
   "metadata": {},
   "outputs": [
    {
     "name": "stdout",
     "output_type": "stream",
     "text": [
      "3.141592653589793\n"
     ]
    }
   ],
   "source": [
    "import math as m\n",
    "print(m.pi)"
   ]
  },
  {
   "cell_type": "code",
   "execution_count": 9,
   "id": "eb5e5496",
   "metadata": {},
   "outputs": [
    {
     "name": "stdout",
     "output_type": "stream",
     "text": [
      "3.141592653589793\n",
      "2.302585092994046\n"
     ]
    }
   ],
   "source": [
    "from math import pi,log\n",
    "print(pi)\n",
    "print(log(10))"
   ]
  },
  {
   "cell_type": "code",
   "execution_count": 10,
   "id": "5cb110ef",
   "metadata": {},
   "outputs": [
    {
     "name": "stdout",
     "output_type": "stream",
     "text": [
      "3.141592653589793\n"
     ]
    }
   ],
   "source": [
    "from math import *\n",
    "print(pi)"
   ]
  },
  {
   "cell_type": "code",
   "execution_count": 16,
   "id": "e48697f6",
   "metadata": {},
   "outputs": [
    {
     "name": "stdout",
     "output_type": "stream",
     "text": [
      "product:  48\n"
     ]
    }
   ],
   "source": [
    "user = lambda x,y: print(\"product: \",x*y)\n",
    "\n",
    "user(6,8)"
   ]
  },
  {
   "cell_type": "code",
   "execution_count": 1,
   "id": "42c820a8",
   "metadata": {},
   "outputs": [
    {
     "name": "stdout",
     "output_type": "stream",
     "text": [
      "starting calculation \n"
     ]
    },
    {
     "ename": "ZeroDivisionError",
     "evalue": "division by zero",
     "output_type": "error",
     "traceback": [
      "\u001b[1;31m---------------------------------------------------------------------------\u001b[0m",
      "\u001b[1;31mZeroDivisionError\u001b[0m                         Traceback (most recent call last)",
      "Cell \u001b[1;32mIn[1], line 6\u001b[0m\n\u001b[0;32m      4\u001b[0m     \u001b[38;5;28mprint\u001b[39m(number,\u001b[38;5;124m\"\u001b[39m\u001b[38;5;124m/\u001b[39m\u001b[38;5;124m\"\u001b[39m ,divisor,\u001b[38;5;124m\"\u001b[39m\u001b[38;5;124m=\u001b[39m\u001b[38;5;124m\"\u001b[39m,result)\n\u001b[0;32m      5\u001b[0m     \u001b[38;5;28mprint\u001b[39m(\u001b[38;5;124m\"\u001b[39m\u001b[38;5;124mcalculation over!..\u001b[39m\u001b[38;5;124m\"\u001b[39m)\n\u001b[1;32m----> 6\u001b[0m divide(\u001b[38;5;241m3\u001b[39m,\u001b[38;5;241m0\u001b[39m)\n",
      "Cell \u001b[1;32mIn[1], line 3\u001b[0m, in \u001b[0;36mdivide\u001b[1;34m(number, divisor)\u001b[0m\n\u001b[0;32m      1\u001b[0m \u001b[38;5;28;01mdef\u001b[39;00m \u001b[38;5;21mdivide\u001b[39m(number,divisor):\n\u001b[0;32m      2\u001b[0m     \u001b[38;5;28mprint\u001b[39m(\u001b[38;5;124m\"\u001b[39m\u001b[38;5;124mstarting calculation \u001b[39m\u001b[38;5;124m\"\u001b[39m)\n\u001b[1;32m----> 3\u001b[0m     result \u001b[38;5;241m=\u001b[39m number\u001b[38;5;241m/\u001b[39mdivisor\n\u001b[0;32m      4\u001b[0m     \u001b[38;5;28mprint\u001b[39m(number,\u001b[38;5;124m\"\u001b[39m\u001b[38;5;124m/\u001b[39m\u001b[38;5;124m\"\u001b[39m ,divisor,\u001b[38;5;124m\"\u001b[39m\u001b[38;5;124m=\u001b[39m\u001b[38;5;124m\"\u001b[39m,result)\n\u001b[0;32m      5\u001b[0m     \u001b[38;5;28mprint\u001b[39m(\u001b[38;5;124m\"\u001b[39m\u001b[38;5;124mcalculation over!..\u001b[39m\u001b[38;5;124m\"\u001b[39m)\n",
      "\u001b[1;31mZeroDivisionError\u001b[0m: division by zero"
     ]
    }
   ],
   "source": [
    "def divide(number,divisor):\n",
    "    print(\"starting calculation \")\n",
    "    result = number/divisor\n",
    "    print(number,\"/\" ,divisor,\"=\",result)\n",
    "    print(\"calculation over!..\")\n",
    "divide(3,0)"
   ]
  },
  {
   "cell_type": "code",
   "execution_count": 8,
   "id": "ab18a619",
   "metadata": {},
   "outputs": [
    {
     "name": "stdout",
     "output_type": "stream",
     "text": [
      "starting calculation \n",
      "3 / 2 = 1.5\n",
      "calculation over!..\n",
      "starting calculation \n",
      "cannot be divide\n",
      "calculation over!..\n",
      "starting calculation \n",
      "cannot be divide\n",
      "calculation over!..\n"
     ]
    }
   ],
   "source": [
    "def divide(number,divisor):\n",
    "    print(\"starting calculation \")\n",
    "    try:\n",
    "        result = number/divisor\n",
    "        print(number,\"/\" ,divisor,\"=\",result)\n",
    "    except (ZeroDivisionError,TypeError):\n",
    "        print(\"cannot be divide\")\n",
    "    print(\"calculation over!..\")\n",
    "divide(3,2)\n",
    "divide(3,0)\n",
    "divide(5,\"ab\")   "
   ]
  },
  {
   "cell_type": "code",
   "execution_count": 9,
   "id": "cf3ffef3",
   "metadata": {},
   "outputs": [
    {
     "name": "stdout",
     "output_type": "stream",
     "text": [
      "starting calculation \n",
      "cannot be divide\n",
      "calculation over!..\n"
     ]
    }
   ],
   "source": [
    "def divide(number,divisor):\n",
    "    print(\"starting calculation \")\n",
    "    try:\n",
    "        result = number/divisor\n",
    "        print(number,\"/\" ,divisor,\"=\",result)\n",
    "    except TypeError:\n",
    "        print(\"cannot be divide\")\n",
    "    print(\"calculation over!..\")\n",
    "divide(5,\"ab\")"
   ]
  },
  {
   "cell_type": "code",
   "execution_count": null,
   "id": "ef2b024a",
   "metadata": {},
   "outputs": [],
   "source": [
    "def divide(number,divisor):\n",
    "     print(number,\"/\" ,divisor,\"=\",result)\n",
    "        try:\n",
    "            result = float(number)/float(divisor)\n",
    "            (number,\"/\" ,divisor,\"=\",result)\n",
    "    "
   ]
  },
  {
   "cell_type": "code",
   "execution_count": 11,
   "id": "ab8be415",
   "metadata": {},
   "outputs": [
    {
     "ename": "IndexError",
     "evalue": "list index out of range",
     "output_type": "error",
     "traceback": [
      "\u001b[1;31m---------------------------------------------------------------------------\u001b[0m",
      "\u001b[1;31mIndexError\u001b[0m                                Traceback (most recent call last)",
      "Cell \u001b[1;32mIn[11], line 3\u001b[0m\n\u001b[0;32m      1\u001b[0m \u001b[38;5;28;01mdef\u001b[39;00m \u001b[38;5;21mgethead\u001b[39m(items):\n\u001b[0;32m      2\u001b[0m     \u001b[38;5;28;01mreturn\u001b[39;00m items[\u001b[38;5;241m0\u001b[39m]\n\u001b[1;32m----> 3\u001b[0m \u001b[38;5;28mprint\u001b[39m(gethead([]))\n",
      "Cell \u001b[1;32mIn[11], line 2\u001b[0m, in \u001b[0;36mgethead\u001b[1;34m(items)\u001b[0m\n\u001b[0;32m      1\u001b[0m \u001b[38;5;28;01mdef\u001b[39;00m \u001b[38;5;21mgethead\u001b[39m(items):\n\u001b[1;32m----> 2\u001b[0m     \u001b[38;5;28;01mreturn\u001b[39;00m items[\u001b[38;5;241m0\u001b[39m]\n",
      "\u001b[1;31mIndexError\u001b[0m: list index out of range"
     ]
    }
   ],
   "source": [
    "def gethead(items):\n",
    "    return items[0]\n",
    "print(gethead([]))"
   ]
  },
  {
   "cell_type": "code",
   "execution_count": 12,
   "id": "24a4a09e",
   "metadata": {},
   "outputs": [
    {
     "name": "stdout",
     "output_type": "stream",
     "text": [
      "list too short\n"
     ]
    }
   ],
   "source": [
    "def gethead(items):\n",
    "    try:\n",
    "        return items[0]\n",
    "    except IndexError:\n",
    "        return 'list too short'\n",
    "print(gethead([]))"
   ]
  },
  {
   "cell_type": "code",
   "execution_count": 14,
   "id": "70aea068",
   "metadata": {},
   "outputs": [
    {
     "ename": "NameError",
     "evalue": "name 'y' is not defined",
     "output_type": "error",
     "traceback": [
      "\u001b[1;31m---------------------------------------------------------------------------\u001b[0m",
      "\u001b[1;31mNameError\u001b[0m                                 Traceback (most recent call last)",
      "Cell \u001b[1;32mIn[14], line 1\u001b[0m\n\u001b[1;32m----> 1\u001b[0m \u001b[38;5;28mprint\u001b[39m(y)\n",
      "\u001b[1;31mNameError\u001b[0m: name 'y' is not defined"
     ]
    }
   ],
   "source": [
    "print(y)"
   ]
  },
  {
   "cell_type": "code",
   "execution_count": 13,
   "id": "cccf36b2",
   "metadata": {},
   "outputs": [
    {
     "name": "stdout",
     "output_type": "stream",
     "text": [
      "y is not defined\n"
     ]
    }
   ],
   "source": [
    "try:\n",
    "    print(y)\n",
    "except:\n",
    "    print('y is not defined')\n",
    "else:\n",
    "    print(\"nothing\")"
   ]
  },
  {
   "cell_type": "code",
   "execution_count": 18,
   "id": "aa4b30dd",
   "metadata": {},
   "outputs": [
    {
     "name": "stdout",
     "output_type": "stream",
     "text": [
      "somethingnwent wrong\n",
      "The try except is finished\n"
     ]
    }
   ],
   "source": [
    "try:\n",
    "    print(x)\n",
    "except:\n",
    "    print('somethingnwent wrong')\n",
    "finally:\n",
    "    print(\"The try except is finished\")"
   ]
  },
  {
   "cell_type": "code",
   "execution_count": 21,
   "id": "67cac8a6",
   "metadata": {},
   "outputs": [
    {
     "ename": "NameError",
     "evalue": "name 'exception' is not defined",
     "output_type": "error",
     "traceback": [
      "\u001b[1;31m---------------------------------------------------------------------------\u001b[0m",
      "\u001b[1;31mNameError\u001b[0m                                 Traceback (most recent call last)",
      "Cell \u001b[1;32mIn[21], line 3\u001b[0m\n\u001b[0;32m      1\u001b[0m x \u001b[38;5;241m=\u001b[39m \u001b[38;5;241m-\u001b[39m\u001b[38;5;241m2\u001b[39m\n\u001b[0;32m      2\u001b[0m \u001b[38;5;28;01mif\u001b[39;00m x \u001b[38;5;241m<\u001b[39m\u001b[38;5;241m0\u001b[39m:\n\u001b[1;32m----> 3\u001b[0m     \u001b[38;5;28;01mraise\u001b[39;00m exception(\u001b[38;5;124m\"\u001b[39m\u001b[38;5;124msorry, no numbers bellow\u001b[39m\u001b[38;5;124m\"\u001b[39m)\n",
      "\u001b[1;31mNameError\u001b[0m: name 'exception' is not defined"
     ]
    }
   ],
   "source": [
    "x = -2\n",
    "if x <0:\n",
    "    raise exception(\"sorry, no numbers bellow\")"
   ]
  },
  {
   "cell_type": "code",
   "execution_count": 19,
   "id": "d8fa2693",
   "metadata": {},
   "outputs": [
    {
     "ename": "TypeError",
     "evalue": "only integers are allowed",
     "output_type": "error",
     "traceback": [
      "\u001b[1;31m---------------------------------------------------------------------------\u001b[0m",
      "\u001b[1;31mTypeError\u001b[0m                                 Traceback (most recent call last)",
      "Cell \u001b[1;32mIn[19], line 4\u001b[0m\n\u001b[0;32m      1\u001b[0m x \u001b[38;5;241m=\u001b[39m \u001b[38;5;124m\"\u001b[39m\u001b[38;5;124mhello\u001b[39m\u001b[38;5;124m\"\u001b[39m\n\u001b[0;32m      3\u001b[0m \u001b[38;5;28;01mif\u001b[39;00m \u001b[38;5;129;01mnot\u001b[39;00m \u001b[38;5;28mtype\u001b[39m(x) \u001b[38;5;129;01mis\u001b[39;00m \u001b[38;5;28mint\u001b[39m:\n\u001b[1;32m----> 4\u001b[0m     \u001b[38;5;28;01mraise\u001b[39;00m \u001b[38;5;167;01mTypeError\u001b[39;00m(\u001b[38;5;124m\"\u001b[39m\u001b[38;5;124monly integers are allowed\u001b[39m\u001b[38;5;124m\"\u001b[39m)\n",
      "\u001b[1;31mTypeError\u001b[0m: only integers are allowed"
     ]
    }
   ],
   "source": [
    "x = \"hello\"\n",
    "\n",
    "if not type(x) is int:\n",
    "    raise TypeError(\"only integers are allowed\")"
   ]
  },
  {
   "cell_type": "code",
   "execution_count": 4,
   "id": "2c96e1b0",
   "metadata": {},
   "outputs": [],
   "source": [
    "x = 8\n",
    "\n",
    "if not type(x) is int:\n",
    "    raise TypeError(\"only integers are allowed\")"
   ]
  },
  {
   "cell_type": "code",
   "execution_count": 5,
   "id": "0eda9263",
   "metadata": {},
   "outputs": [
    {
     "name": "stdout",
     "output_type": "stream",
     "text": [
      "input an integer33\n",
      "entered 33\n"
     ]
    }
   ],
   "source": [
    "while True:\n",
    "    try:\n",
    "        value = int(input(\"input an integer\"))\n",
    "        print(\"entered\",value)\n",
    "        break\n",
    "    except:\n",
    "        print(\"that is not an integers, try again\")\n",
    "\n"
   ]
  },
  {
   "cell_type": "code",
   "execution_count": null,
   "id": "250c9405",
   "metadata": {},
   "outputs": [],
   "source": []
  }
 ],
 "metadata": {
  "kernelspec": {
   "display_name": "Python 3 (ipykernel)",
   "language": "python",
   "name": "python3"
  },
  "language_info": {
   "codemirror_mode": {
    "name": "ipython",
    "version": 3
   },
   "file_extension": ".py",
   "mimetype": "text/x-python",
   "name": "python",
   "nbconvert_exporter": "python",
   "pygments_lexer": "ipython3",
   "version": "3.11.5"
  }
 },
 "nbformat": 4,
 "nbformat_minor": 5
}
