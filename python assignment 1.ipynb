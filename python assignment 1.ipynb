{
 "cells": [
  {
   "cell_type": "code",
   "execution_count": 3,
   "id": "198ebfbd",
   "metadata": {},
   "outputs": [
    {
     "name": "stdout",
     "output_type": "stream",
     "text": [
      "hello, how are you?\n"
     ]
    }
   ],
   "source": [
    "print(\"hello, how are you?\")"
   ]
  },
  {
   "cell_type": "code",
   "execution_count": 1,
   "id": "76bee10c",
   "metadata": {},
   "outputs": [
    {
     "name": "stdout",
     "output_type": "stream",
     "text": [
      "enter your name;jaseem\n",
      "good morning jaseem\n"
     ]
    }
   ],
   "source": [
    "name = input(\"enter your name;\")\n",
    "print(\"good morning\",name)\n",
    "#write a program that take the user's name and then prints a greeting message with their name."
   ]
  },
  {
   "cell_type": "code",
   "execution_count": 2,
   "id": "dadbb70a",
   "metadata": {},
   "outputs": [
    {
     "name": "stdout",
     "output_type": "stream",
     "text": [
      "enter your first number;11\n",
      "enter your second number;22\n",
      "sum is 33.0\n"
     ]
    }
   ],
   "source": [
    "x = int(input(\"enter your first number;\"))\n",
    "y = float(input(\"enter your second number;\"))\n",
    "z = x+y\n",
    "print(\"sum is\",x+y)\n",
    "#write a program that takes two numbers as input and prints their sum."
   ]
  },
  {
   "cell_type": "code",
   "execution_count": 1,
   "id": "ee542a05",
   "metadata": {},
   "outputs": [
    {
     "name": "stdout",
     "output_type": "stream",
     "text": [
      "please enter string ;softroniic\n",
      "10\n"
     ]
    }
   ],
   "source": [
    "my_string = input(\"please enter string ;\")\n",
    "length = len(my_string)\n",
    "print(length)\n",
    "#write a program that takes a string as input and prints its length."
   ]
  },
  {
   "cell_type": "code",
   "execution_count": 9,
   "id": "8561e2d9",
   "metadata": {},
   "outputs": [
    {
     "name": "stdout",
     "output_type": "stream",
     "text": [
      "HELLO,HOW ARE YOU?\n"
     ]
    }
   ],
   "source": [
    "my_string = \"hello,how are you?\"\n",
    "print(my_string.upper()) \n",
    "\n",
    "#write a program that takes a and then converts all the characters to upper case."
   ]
  },
  {
   "cell_type": "code",
   "execution_count": 2,
   "id": "48f3556e",
   "metadata": {},
   "outputs": [
    {
     "name": "stdout",
     "output_type": "stream",
     "text": [
      "enter string;hello how are you;\n",
      "the number of words= 4\n"
     ]
    }
   ],
   "source": [
    "my_string = []\n",
    "split = my_string.split(\" \")\n",
    "length = len(split)\n",
    "print(\"the number of words=\",length)\n",
    "\n",
    "#write a program that takes a sentence and then print the number words in that sentence."
   ]
  },
  {
   "cell_type": "code",
   "execution_count": 3,
   "id": "0fa3d1b0",
   "metadata": {},
   "outputs": [
    {
     "name": "stdout",
     "output_type": "stream",
     "text": [
      "enter your stringhello world\n",
      "the number of uppercase letters in the string = 0\n"
     ]
    }
   ],
   "source": [
    "#write a program that takes a string as input and counts the number of upper case letters in the string.\n",
    "string = input(\"enter your string \")\n",
    "number = 0\n",
    "for char in string:\n",
    "    if char.isupper():\n",
    "        number+=1\n",
    "print(\"the number of uppercase letters in the string =\",number)\n"
   ]
  },
  {
   "cell_type": "code",
   "execution_count": 5,
   "id": "49d98d9d",
   "metadata": {},
   "outputs": [
    {
     "name": "stdout",
     "output_type": "stream",
     "text": [
      "please enter sentence; malayalam\n",
      " meleyelem\n"
     ]
    }
   ],
   "source": [
    "#write a program write a program that takes a string as input and replaces all occurrences of the letter 'a' with the letter 'e'.\n",
    "string = input(\"please enter sentence;\")\n",
    "replace_string = string.replace(\"a\",\"e\")\n",
    "print(replace_string)"
   ]
  },
  {
   "cell_type": "code",
   "execution_count": 2,
   "id": "89d0f1a2",
   "metadata": {},
   "outputs": [
    {
     "name": "stdout",
     "output_type": "stream",
     "text": [
      "please enter word;noon\n",
      "noon\n",
      "the string is palindrome\n"
     ]
    }
   ],
   "source": [
    "my_string = input(\"please enter word;\")\n",
    "rev = my_string[::-1]\n",
    "print(rev)\n",
    "if(my_string==rev):\n",
    "    print(\"the string is palindrome\")\n",
    "#create aprogram that checks if a given string is a plaindrome"
   ]
  },
  {
   "cell_type": "code",
   "execution_count": 3,
   "id": "b0e15d25",
   "metadata": {},
   "outputs": [
    {
     "name": "stdout",
     "output_type": "stream",
     "text": [
      "['WELCOME', 'ARE', 'ALL']\n"
     ]
    }
   ],
   "source": [
    "#write program that reverses the erder of words in a given sentence.\n",
    "\n",
    "my_string = (\"ALL ARE WELCOME\")\n",
    "string = my_string.split(\" \")\n",
    "revers = string[::-1]\n",
    "print(revers)"
   ]
  },
  {
   "cell_type": "code",
   "execution_count": 2,
   "id": "91373cca",
   "metadata": {},
   "outputs": [
    {
     "name": "stdout",
     "output_type": "stream",
     "text": [
      "write a string; hello world\n",
      "write a sub string; world\n",
      "it is present in the main string\n"
     ]
    }
   ],
   "source": [
    "#creat program that checks if a substing is present in a given string \n",
    "my_string= input(\"write a string; \")\n",
    "sub_string = input(\"write a sub string; \")\n",
    "if sub_string in my_string:\n",
    "    print(\"it is present in the main string\")\n",
    "else:\n",
    "    print(\"it is  not present in the main string\")  \n"
   ]
  },
  {
   "cell_type": "code",
   "execution_count": null,
   "id": "dc0d6303",
   "metadata": {},
   "outputs": [],
   "source": [
    "#list\n",
    "\n"
   ]
  },
  {
   "cell_type": "code",
   "execution_count": 6,
   "id": "38f0d672",
   "metadata": {},
   "outputs": [
    {
     "name": "stdout",
     "output_type": "stream",
     "text": [
      "60\n"
     ]
    }
   ],
   "source": [
    "x = [12,36,5,7,]\n",
    "print(sum(x))\n",
    "#find the sum of elements in a list."
   ]
  },
  {
   "cell_type": "code",
   "execution_count": 7,
   "id": "dcc6af36",
   "metadata": {},
   "outputs": [
    {
     "name": "stdout",
     "output_type": "stream",
     "text": [
      "['f', 'e', 'd', 'c', 'b', 'a']\n"
     ]
    }
   ],
   "source": [
    "#create a list of characters. write program to reverse the order of the elements in the list with out using built-in function.use index method.\n",
    "my_list = ['a','b','c','d','e','f']\n",
    "list2 = my_list[::-1]\n",
    "print(list2)"
   ]
  },
  {
   "cell_type": "code",
   "execution_count": 9,
   "id": "b146a20c",
   "metadata": {},
   "outputs": [
    {
     "name": "stdout",
     "output_type": "stream",
     "text": [
      "['Mike', 'Kmma', 'Kelly', 'Brad']\n"
     ]
    }
   ],
   "source": [
    "#Remove empty strings from the list of strings without using any loops\n",
    "my_list = [\"Mike\",\"\",\"Kmma\",\"Kelly\",\"\",\"Brad\"]\n",
    "del my_list[1]\n",
    "del my_list[3]\n",
    "print(my_list)"
   ]
  },
  {
   "cell_type": "code",
   "execution_count": 10,
   "id": "31eb7ccc",
   "metadata": {},
   "outputs": [
    {
     "name": "stdout",
     "output_type": "stream",
     "text": [
      "[10, 20, [300, 400, [5000, 6000, 7000], 500], 30, 40]\n"
     ]
    }
   ],
   "source": [
    "#Write a program to add item 7000 after 6000 in the following Python List\n",
    "list1 = [10, 20, [300, 400, [5000, 6000], 500], 30, 40]\n",
    "list2 = list1[2][2]\n",
    "list2.append(7000)\n",
    "print(list1)"
   ]
  },
  {
   "cell_type": "code",
   "execution_count": 11,
   "id": "ede80b70",
   "metadata": {},
   "outputs": [
    {
     "name": "stdout",
     "output_type": "stream",
     "text": [
      "20\n",
      "3\n",
      "[5, 10, 15, 200, 25, 50, 20]\n"
     ]
    }
   ],
   "source": [
    "#You have given a Python list. Write a program to find value 20 in the list, and if it is present, replace it with 200. Only update the first occurrence of an item.\n",
    "list1 = [5, 10, 15, 20, 25, 50, 20]\n",
    "x = 20\n",
    "if x in list1:\n",
    "    print(x)\n",
    "print(list1.index(20))\n",
    "list1[3] = 200\n",
    "print(list1)"
   ]
  },
  {
   "cell_type": "code",
   "execution_count": 13,
   "id": "54199501",
   "metadata": {},
   "outputs": [
    {
     "name": "stdout",
     "output_type": "stream",
     "text": [
      "87\n"
     ]
    }
   ],
   "source": [
    "#Create a list of numbers. Write a program to find the range (difference between the largest and smallest element) of the list.\n",
    "mylist = [2,3,4,5,89,67,54,3]\n",
    "mylist.sort()\n",
    "x=mylist[0]\n",
    "y = mylist[-1]\n",
    "z = y-x\n",
    "print(z)"
   ]
  },
  {
   "cell_type": "code",
   "execution_count": 14,
   "id": "867965af",
   "metadata": {},
   "outputs": [
    {
     "name": "stdout",
     "output_type": "stream",
     "text": [
      "['Apple', 'Orange', 'Cherry', 'Watermelon', 'Strawberry']\n"
     ]
    }
   ],
   "source": [
    "#Create a list of numbers. Write a program to insert a new element at a specific position in the list.\n",
    "mylist =[\"Apple\",\"Orange\",'Cherry','Strawberry']\n",
    "mylist.insert(3,\"Watermelon\")\n",
    "print(mylist)"
   ]
  },
  {
   "cell_type": "code",
   "execution_count": 15,
   "id": "b623ec0b",
   "metadata": {},
   "outputs": [
    {
     "name": "stdout",
     "output_type": "stream",
     "text": [
      "2\n",
      "1\n",
      "1\n",
      "4\n",
      "1\n",
      "2\n",
      "1\n",
      "1\n"
     ]
    }
   ],
   "source": [
    "#Create a list of random numbers. Write a program to count how many times each element appears in the list.\n",
    "mylist = [23,89,76,45,23,45,9,67,45,12,21,34,45,67]\n",
    "print(mylist.count(23))\n",
    "print(mylist.count(89))\n",
    "print(mylist.count(76))\n",
    "print(mylist.count(45))     \n",
    "print(mylist.count(9))\n",
    "print(mylist.count(67))\n",
    "print(mylist.count(12))     \n",
    "print(mylist.count(34))"
   ]
  },
  {
   "cell_type": "code",
   "execution_count": null,
   "id": "669407b7",
   "metadata": {},
   "outputs": [],
   "source": [
    "#TUPLE"
   ]
  },
  {
   "cell_type": "code",
   "execution_count": 2,
   "id": "05caa6ea",
   "metadata": {},
   "outputs": [
    {
     "name": "stdout",
     "output_type": "stream",
     "text": [
      "6\n",
      "96\n"
     ]
    }
   ],
   "source": [
    "#1.\tWrite a Python program to find the maximum and minimum values in a tuple of integers\n",
    "my_tuple = (26,56,85,78,15,6,96)\n",
    "my_list = list(my_tuple)\n",
    "print(min(my_list))\n",
    "print(max(my_list))"
   ]
  },
  {
   "cell_type": "code",
   "execution_count": 3,
   "id": "13273532",
   "metadata": {},
   "outputs": [
    {
     "name": "stdout",
     "output_type": "stream",
     "text": [
      "(26, 56, 85, 78, 15, 6, 96, [25, 51, 5])\n"
     ]
    }
   ],
   "source": [
    "#2.\tWrite a Python program to concatenate two tuples element-wise.\n",
    "my_tuple = (26,56,85,78,15,6,96)\n",
    "tuple2 = (25,51,5)\n",
    "x = list(my_tuple)\n",
    "y = list(tuple2)\n",
    "x.append(y)\n",
    "print(tuple(x))"
   ]
  },
  {
   "cell_type": "code",
   "execution_count": 5,
   "id": "7d923c36",
   "metadata": {},
   "outputs": [
    {
     "name": "stdout",
     "output_type": "stream",
     "text": [
      "1\n",
      "1\n",
      "1\n",
      "1\n",
      "1\n",
      "2\n",
      "1\n",
      "1\n"
     ]
    }
   ],
   "source": [
    "#3.\tWrite a Python program to count the number of occurrences of an element in a tuple.\n",
    "mytuple = (48,89,11,38,23,45,5,67,45,12,21,43,45,67)\n",
    "mylist = list(mytuple)\n",
    "print(mylist.count(48))\n",
    "print(mylist.count(89))\n",
    "print(mylist.count(11))\n",
    "print(mylist.count(38))     \n",
    "print(mylist.count(5))\n",
    "print(mylist.count(67))\n",
    "print(mylist.count(12))     \n",
    "print(mylist.count(43))"
   ]
  },
  {
   "cell_type": "code",
   "execution_count": 7,
   "id": "7bd15895",
   "metadata": {},
   "outputs": [
    {
     "name": "stdout",
     "output_type": "stream",
     "text": [
      "resuiting dictionary:  {1: 'orange', 2: 'cherry', 3: 'grape'}\n"
     ]
    }
   ],
   "source": [
    "#4.\tWrite a Python program to convert a list of tuples into a dictionary.\n",
    "mytuple = [(1,'orange'),(2,'cherry'),(3,'grape')]\n",
    "result_dict = dict(mytuple)\n",
    "print(\"resuiting dictionary: \",result_dict)"
   ]
  },
  {
   "cell_type": "code",
   "execution_count": 6,
   "id": "7ad0ca70",
   "metadata": {},
   "outputs": [
    {
     "name": "stdout",
     "output_type": "stream",
     "text": [
      "[(23, 45, 67), (98, 123, 465)]\n"
     ]
    }
   ],
   "source": [
    "#5.\tWrite a Python program to slice a tuple into multiple sub-tuples based on a given size.\n",
    "MY_TUPLE = (23, 45, 67, 98, 123, 465)\n",
    "LIST = list(MY_TUPLE)\n",
    "subtuple_size = 3\n",
    "NEW_LIST = [tuple(LIST[i:i + subtuple_size]) for i in range(0, len(LIST), subtuple_size)]\n",
    "print(NEW_LIST)"
   ]
  },
  {
   "cell_type": "code",
   "execution_count": 7,
   "id": "323745a1",
   "metadata": {},
   "outputs": [
    {
     "name": "stdout",
     "output_type": "stream",
     "text": [
      "Nested Tuple: ((1, 2, 3), ('a', 'b', 'c'), ('ant', 'ball', 'cat'))\n",
      "Accessed Element: c\n"
     ]
    }
   ],
   "source": [
    "#6.\tWrite a Python program to create a nested tuple and access an element from it.\n",
    "mytuple = ((1, 2, 3), ('a', 'b', 'c'), ('ant', 'ball', 'cat'))\n",
    "element = mytuple[1][2]\n",
    "print(\"Nested Tuple:\", mytuple)\n",
    "print(\"Accessed Element:\", element)"
   ]
  },
  {
   "cell_type": "code",
   "execution_count": 11,
   "id": "4d7e9037",
   "metadata": {},
   "outputs": [
    {
     "name": "stdout",
     "output_type": "stream",
     "text": [
      "(26, 56, 85, 15, 6, 96)\n"
     ]
    }
   ],
   "source": [
    "#7.\tWrite a Python program to remove an element from a tuple.\n",
    "my_tuple = (26,56,85,78,15,6,96)\n",
    "my_list = list(my_tuple)\n",
    "my_list.remove(78)\n",
    "my_tuple= tuple(my_list)\n",
    "print(my_tuple)"
   ]
  },
  {
   "cell_type": "code",
   "execution_count": 6,
   "id": "873b6a3e",
   "metadata": {},
   "outputs": [
    {
     "name": "stdout",
     "output_type": "stream",
     "text": [
      "(1, 2, 3, 4)\n"
     ]
    }
   ],
   "source": [
    "#8.\tWrite a Python program to merge two tuples and remove the duplicate elements.\n",
    "mytuple1 = (3,5,7,9)\n",
    "mytuple2 = (2,4,6,8 )\n",
    "set1 = set(mytuple1)\n",
    "set2 = set(mytuple2)\n",
    "set3 = set1.union(set2)\n",
    "mytuple = tuple(set3)\n",
    "print(mytuple)"
   ]
  },
  {
   "cell_type": "code",
   "execution_count": 14,
   "id": "65b45804",
   "metadata": {},
   "outputs": [
    {
     "name": "stdout",
     "output_type": "stream",
     "text": [
      "orange\n",
      "['mango', 'apple', 'pinapple']\n",
      "banana\n"
     ]
    }
   ],
   "source": [
    "#9.\tWrite a Python program to create a tuple with a variable length and unpack it into multiple variables.\n",
    "fruits = ('orange','mango','apple','pinapple','banana',)\n",
    "x,*y,z = fruits\n",
    "print(x)\n",
    "print(y)\n",
    "print(z)"
   ]
  },
  {
   "cell_type": "code",
   "execution_count": 1,
   "id": "a4bc9699",
   "metadata": {},
   "outputs": [],
   "source": [
    "#10.Write a Python program to find the index of the first occurrence of an element in a tuple.\n",
    "my_tuple = (26,56,85,78,15,6,96)\n",
    "my_list = list(my_tuple)\n",
    "x = 3\n",
    "if x in my_list:\n",
    "    print(my_list.index(3))"
   ]
  },
  {
   "cell_type": "code",
   "execution_count": null,
   "id": "90f4f990",
   "metadata": {},
   "outputs": [],
   "source": [
    "#SET"
   ]
  },
  {
   "cell_type": "code",
   "execution_count": 7,
   "id": "f9a36fac",
   "metadata": {},
   "outputs": [
    {
     "name": "stdout",
     "output_type": "stream",
     "text": [
      "{2, 3, 4}\n"
     ]
    }
   ],
   "source": [
    "#1.\tWrite a Python program to check if two sets have any common elements.\n",
    "set1 = {1,2,3,4}\n",
    "set2 ={2,3,4,5}\n",
    "print(set1.intersection(set2))"
   ]
  },
  {
   "cell_type": "code",
   "execution_count": 8,
   "id": "3c53f78d",
   "metadata": {},
   "outputs": [
    {
     "name": "stdout",
     "output_type": "stream",
     "text": [
      "{1}\n"
     ]
    }
   ],
   "source": [
    "#2.Write a Python program to find the difference between two sets.\n",
    "set1 = {1,2,3,4}\n",
    "set2 ={2,3,4,5}\n",
    "print(set1.difference(set2))"
   ]
  },
  {
   "cell_type": "code",
   "execution_count": 11,
   "id": "35b80927",
   "metadata": {},
   "outputs": [
    {
     "name": "stdout",
     "output_type": "stream",
     "text": [
      "{1, 5}\n"
     ]
    }
   ],
   "source": [
    "#3.\tWrite a Python program to find the symmetric difference between two sets.\n",
    "set1 = {1,2,3,4}\n",
    "set2 ={2,3,4,5}\n",
    "print(set1.symmetric_difference(set2))"
   ]
  },
  {
   "cell_type": "code",
   "execution_count": 16,
   "id": "15b5bbbd",
   "metadata": {},
   "outputs": [
    {
     "name": "stdout",
     "output_type": "stream",
     "text": [
      "the created list =  [5, 6, 7, 8, 5, 7]\n",
      "the created list by removing duplicates {1, 2, 3, 4, 5, 6}\n"
     ]
    }
   ],
   "source": [
    "#4.Write a Python program to create a set from a given list and remove the duplicates.\n",
    "list1 = [5,6,7,8,5,7]\n",
    "print('the created list = ',list1)\n",
    "list2 = set(list1)\n",
    "print('the created list by removing duplicates',set1)"
   ]
  },
  {
   "cell_type": "code",
   "execution_count": 13,
   "id": "18fb0397",
   "metadata": {},
   "outputs": [
    {
     "name": "stdout",
     "output_type": "stream",
     "text": [
      "{1, 2, 3, 4, 7, 8}\n"
     ]
    }
   ],
   "source": [
    "#5.Write a Python program to create a new set with all the elements from two sets, but exclude the common ones.\n",
    "set1 ={8,4,6,5,2}\n",
    "set2 = {6,7,3,5,1}\n",
    "print(set1.symmetric_difference(set2))"
   ]
  },
  {
   "cell_type": "code",
   "execution_count": 13,
   "id": "32ce6d22",
   "metadata": {},
   "outputs": [
    {
     "name": "stdout",
     "output_type": "stream",
     "text": [
      "set1 is not a subset of set2\n"
     ]
    }
   ],
   "source": [
    "#6.\tWrite a Python program to check if a set is a subset of another set.\n",
    "set1 = {1, 2, 3, 4}\n",
    "set2 = {2, 3, 4, 5}\n",
    "\n",
    "if set1.issubset(set2):\n",
    "    print(\"set1 is a subset of set2\")\n",
    "else:\n",
    "    print(\"set1 is not a subset of set2\")\n"
   ]
  },
  {
   "cell_type": "code",
   "execution_count": 8,
   "id": "bafec601",
   "metadata": {},
   "outputs": [
    {
     "name": "stdout",
     "output_type": "stream",
     "text": [
      "5\n",
      "1\n"
     ]
    }
   ],
   "source": [
    "#7.Write a Python program to find the maximum and minimum values in a set.\n",
    "set1 = {1,2,3,4,5}\n",
    "list1 = list(set1)\n",
    "print(max(list1))\n",
    "print(min(list1))"
   ]
  },
  {
   "cell_type": "code",
   "execution_count": 9,
   "id": "a18ecdb6",
   "metadata": {},
   "outputs": [
    {
     "name": "stdout",
     "output_type": "stream",
     "text": [
      "set()\n"
     ]
    }
   ],
   "source": [
    "#8.Write a Python program to remove all the elements from a set.\n",
    "set1 = {1,2,3,4,5}\n",
    "set1.clear()\n",
    "print(set1)"
   ]
  },
  {
   "cell_type": "code",
   "execution_count": 15,
   "id": "be3c0e2d",
   "metadata": {},
   "outputs": [
    {
     "name": "stdout",
     "output_type": "stream",
     "text": [
      "Updated set1: {1, 2, 3, 4, 5, 6}\n"
     ]
    }
   ],
   "source": [
    "#9.Write a Python program to update a set with the union of itself and another set.\n",
    "set1 = {1, 2, 3, 4}\n",
    "set2 = {3, 4, 5, 6}\n",
    "\n",
    "set1.update(set2)\n",
    "\n",
    "print(\"Updated set1:\", set1)"
   ]
  },
  {
   "cell_type": "code",
   "execution_count": 14,
   "id": "df05c181",
   "metadata": {},
   "outputs": [
    {
     "name": "stdout",
     "output_type": "stream",
     "text": [
      "15\n"
     ]
    }
   ],
   "source": [
    "#10.Write a Python program to find the sum of all the elements in a set.\n",
    "set1 = {1,2,3,4,5}\n",
    "list1 = list(set1)\n",
    "print(sum(list1))"
   ]
  },
  {
   "cell_type": "code",
   "execution_count": null,
   "id": "1cd98fad",
   "metadata": {},
   "outputs": [],
   "source": [
    "#CONDITION"
   ]
  },
  {
   "cell_type": "code",
   "execution_count": 1,
   "id": "63309daa",
   "metadata": {},
   "outputs": [
    {
     "name": "stdout",
     "output_type": "stream",
     "text": [
      "enter the number23\n",
      "the number is positive\n"
     ]
    }
   ],
   "source": [
    "#1.\tWrite a program that takes an integer as input and prints whether it's positive, negative, or zero.\n",
    "x= int(input(\"enter the number\"))\n",
    "if x<0:\n",
    "    print(\"the number is negative\")\n",
    "elif x==0:\n",
    "    print(\"the number is positive\")\n",
    "else:\n",
    "    print(\"the number is positive\")"
   ]
  },
  {
   "cell_type": "code",
   "execution_count": 1,
   "id": "33b89149",
   "metadata": {},
   "outputs": [
    {
     "name": "stdout",
     "output_type": "stream",
     "text": [
      "Please enter your mark:56\n",
      "Sorry You are failed\n"
     ]
    }
   ],
   "source": [
    "#2.Create a program that takes a student's score as input and prints their corresponding grade based on the following scale:\n",
    "#90 or above: A\n",
    "#80-89: B\n",
    "#70-79: C\n",
    "#60-69: D\n",
    "#Below 60: F\n",
    "\n",
    "marks = int(input(\"Please enter your mark:\"))\n",
    "if(marks >90):\n",
    "    print(\"Congragulations!,You have an A Grade\")\n",
    "elif(marks<=89 and marks>80):\n",
    "    print(\"B Grade\")\n",
    "elif(marks<=79 and marks>70):\n",
    "    print(\"C Grade\")\n",
    "elif(marks<=69 and marks>60):\n",
    "    print(\"D Grade\")\n",
    "else:\n",
    "    print(\"Sorry You are failed\")"
   ]
  },
  {
   "cell_type": "code",
   "execution_count": 3,
   "id": "91db84e4",
   "metadata": {},
   "outputs": [
    {
     "name": "stdout",
     "output_type": "stream",
     "text": [
      "Please enter your age:15\n",
      "Hai, teen\n"
     ]
    }
   ],
   "source": [
    "#3.Create a program that takes a person's age as input and prints whether they are a child (0-12), teenager (13-19), adult (20-59), or senior (60 and above).\n",
    "age = int(input(\"Please enter your age:\"))\n",
    "if(age>=0 and age<=12):\n",
    "    print(\"Hai, child\")\n",
    "elif(age>=13 and age<=19):\n",
    "    print(\"Hai, teen\")\n",
    "elif(age>=20 and age<=59):\n",
    "    print(\"Hai,adult\")\n",
    "else:\n",
    "    print(\"Hai, senior\")"
   ]
  },
  {
   "cell_type": "code",
   "execution_count": 4,
   "id": "2c037de0",
   "metadata": {},
   "outputs": [
    {
     "name": "stdout",
     "output_type": "stream",
     "text": [
      "Please enter number1:15\n",
      "Please enter number2:96\n",
      "Please enter number3:66\n",
      "96 is the largest\n"
     ]
    }
   ],
   "source": [
    "#4.\tWrite a program that takes three integers as input and prints the largest number among tage = int(input(\"Please enter your age:\"))\n",
    "A = int(input(\"Please enter number1:\"))\n",
    "B = int(input(\"Please enter number2:\"))\n",
    "C = int(input(\"Please enter number3:\"))\n",
    "if A>B and A>C:\n",
    "    print(A,\"is the largest\")\n",
    "elif B>A and B>C:\n",
    "    print(B,\"is the largest\")\n",
    "else:\n",
    "    print(C,\"is the largest\")"
   ]
  },
  {
   "cell_type": "code",
   "execution_count": 6,
   "id": "cbb02a9a",
   "metadata": {},
   "outputs": [
    {
     "name": "stdout",
     "output_type": "stream",
     "text": [
      "enter the length of side a65\n",
      "enter the length of side b56\n",
      "enter the length of side c56\n",
      "Yes,It is a triangle\n"
     ]
    }
   ],
   "source": [
    "#5.Create a program that takes three sides of a triangle as input and determines if it's a valid triangle (sum of any two sides is greater than the third). Print \"Valid\" or \"Invalid\" accordingly.\n",
    "side_a=int(input(\"enter the length of side a\"))\n",
    "side_b=int(input(\"enter the length of side b\"))\n",
    "side_c=int(input(\"enter the length of side c\"))\n",
    "if side_a+side_b>side_c:\n",
    "    print(\"Yes,It is a triangle\")\n",
    "elif side_b+side_c>side_a:\n",
    "        print(\"Yes,It is a triangle\")\n",
    "elif side_c+side_a>side_b:\n",
    "    print(\"Yes,It is a triangle\" )\n",
    "else:\n",
    "    print(\"It is not a traingle\")"
   ]
  },
  {
   "cell_type": "code",
   "execution_count": 7,
   "id": "c9c72e2a",
   "metadata": {},
   "outputs": [
    {
     "name": "stdout",
     "output_type": "stream",
     "text": [
      "enter the time:52\n",
      "4.0\n"
     ]
    }
   ],
   "source": [
    "#6.Write a program that takes the time in 24-hour format (e.g., 14:30) as input and converts it to 12-hour format (e.g., 2:30 PM) and prints the result.\n",
    "time = float(input(\"enter the time:\"))\n",
    "if time<12:\n",
    "    print(time)\n",
    "else:\n",
    "    time=time%12\n",
    "    print(time)"
   ]
  },
  {
   "cell_type": "code",
   "execution_count": 8,
   "id": "be66cb20",
   "metadata": {},
   "outputs": [
    {
     "name": "stdout",
     "output_type": "stream",
     "text": [
      "enter a character:55\n",
      "The characer is consonant\n"
     ]
    }
   ],
   "source": [
    "#7.Write a program that takes a character as input and determines if it's a vowel, consonant, or neither. Print the appropriate message.\n",
    "character = input(\"enter a character:\")\n",
    "if character.islower():\n",
    "    character.upper()\n",
    "else:\n",
    "    if character =='a' or character =='e'or character =='i' or character =='o'or character =='u':\n",
    "        print(\"the character is a vowel\")\n",
    "    elif character !='a' or character !='e'or character !='i' or character !='o'or character !='u':\n",
    "        print(\"The characer is consonant\")\n",
    "    else:\n",
    "        print(\"Not a character at all\")"
   ]
  },
  {
   "cell_type": "code",
   "execution_count": null,
   "id": "23bc5b11",
   "metadata": {},
   "outputs": [],
   "source": [
    "#while loop"
   ]
  },
  {
   "cell_type": "code",
   "execution_count": 1,
   "id": "1cbf41d4",
   "metadata": {},
   "outputs": [
    {
     "name": "stdout",
     "output_type": "stream",
     "text": [
      "7\n",
      "14\n",
      "21\n",
      "28\n",
      "35\n",
      "42\n",
      "49\n",
      "finished\n"
     ]
    }
   ],
   "source": [
    "#1.Write a program to display the first 7 multiples of 7.  \n",
    "number = 7\n",
    "i=1\n",
    "while i<=7:\n",
    "    print(i*7)\n",
    "    i=i+1\n",
    "print(\"finished\")"
   ]
  },
  {
   "cell_type": "code",
   "execution_count": 2,
   "id": "0ecb29d2",
   "metadata": {},
   "outputs": [
    {
     "name": "stdout",
     "output_type": "stream",
     "text": [
      "ente a number:56\n",
      "ente a number:59\n",
      "ente a number:81\n",
      "ente a number:0\n",
      "total = 196\n"
     ]
    }
   ],
   "source": [
    "#2.Find the sum of numbers in a list using while loop.\n",
    "number = int(input(\"ente a number:\"))\n",
    "total =0\n",
    "while number!=0:\n",
    "    total+=number\n",
    "    number = int(input(\"ente a number:\"))\n",
    "    \n",
    "print(\"total =\",total)"
   ]
  },
  {
   "cell_type": "code",
   "execution_count": 3,
   "id": "07ccb3aa",
   "metadata": {},
   "outputs": [
    {
     "name": "stdout",
     "output_type": "stream",
     "text": [
      "list of positive numbers: [12, 34, 31, 87]\n",
      "list of negative numbers: [-9, -67, -54, -90]\n"
     ]
    }
   ],
   "source": [
    "#3.Write a program to separate positive and negative number from a list.\n",
    "mainlist = [12,-9,34,-67,31,-54,87,-90]\n",
    "negative_list = []\n",
    "positive_list = []\n",
    "i=0\n",
    "while i<len(mainlist):\n",
    "    if mainlist[i]<=0:\n",
    "        item=mainlist[i]\n",
    "        negative_list.append(item)\n",
    "    else:\n",
    "        item=mainlist[i]\n",
    "        positive_list.append(item)\n",
    "    i=i+1\n",
    "print(\"list of positive numbers:\",positive_list)\n",
    "print(\"list of negative numbers:\",negative_list)"
   ]
  },
  {
   "cell_type": "code",
   "execution_count": 4,
   "id": "c7a9c113",
   "metadata": {},
   "outputs": [
    {
     "name": "stdout",
     "output_type": "stream",
     "text": [
      "[1, 4, 9, 16]\n"
     ]
    }
   ],
   "source": [
    "#4.Write a program that appends the square of each number to a new list.\n",
    "mylist = [1,2,3,4]\n",
    "i = 0\n",
    "list1 = []\n",
    "while i<len(mylist):\n",
    "    x = mylist[i]*mylist[i]\n",
    "    list1.append(x)\n",
    "    i=i+1\n",
    "    \n",
    "print(list1)"
   ]
  },
  {
   "cell_type": "code",
   "execution_count": 5,
   "id": "42dc1b24",
   "metadata": {},
   "outputs": [
    {
     "name": "stdout",
     "output_type": "stream",
     "text": [
      "enter a wordjaseem\n"
     ]
    }
   ],
   "source": [
    "#5.Write a program in Python to reverse a word.\n",
    "word = (input(\"enter a word\"))\n",
    "index = len(word)-1"
   ]
  },
  {
   "cell_type": "code",
   "execution_count": 6,
   "id": "82bc2b08",
   "metadata": {},
   "outputs": [
    {
     "name": "stdout",
     "output_type": "stream",
     "text": [
      "list of even numbers: [12, 34, -54, -90]\n",
      "list of odd numbers: [-9, -67, 31, 87]\n"
     ]
    }
   ],
   "source": [
    "#6.Write a program to filter even and odd number from a list.\n",
    "mainlist = [12,-9,34,-67,31,-54,87,-90]\n",
    "even_list = []\n",
    "odd_list = []\n",
    "i=0\n",
    "while i<len(mainlist):\n",
    "    if mainlist[i]%2==0:\n",
    "        item=mainlist[i]\n",
    "        even_list.append(item)\n",
    "    else:\n",
    "        item=mainlist[i]\n",
    "        odd_list.append(item)\n",
    "    i=i+1\n",
    "print(\"list of even numbers:\",even_list)\n",
    "print(\"list of odd numbers:\",odd_list)"
   ]
  },
  {
   "cell_type": "code",
   "execution_count": 1,
   "id": "f8dbd21f",
   "metadata": {},
   "outputs": [
    {
     "name": "stdout",
     "output_type": "stream",
     "text": [
      "Enter your guess (between 1 and 10): 7\n",
      "Too high! Try again.\n",
      "Enter your guess (between 1 and 10): 5\n",
      "Too low! Try again.\n",
      "Enter your guess (between 1 and 10): 3\n",
      "Too low! Try again.\n",
      "Enter your guess (between 1 and 10): 1\n",
      "Too low! Try again.\n",
      "Enter your guess (between 1 and 10): 2\n",
      "Too low! Try again.\n",
      "Enter your guess (between 1 and 10): 4\n",
      "Too low! Try again.\n",
      "Enter your guess (between 1 and 10): 6\n",
      "Congratulations! You guessed the correct number.\n"
     ]
    }
   ],
   "source": [
    "#7.Create a simple number guessing game where the computer generates a random number between 1 and 10 and the user has to guess it. Provide hints whether the guess is too high or too low. Keep asking until the user guesses correctly.\n",
    "import random\n",
    "secret_number = random.randint(1, 10)\n",
    "\n",
    "while True:\n",
    "    guess = int(input(\"Enter your guess (between 1 and 10): \"))\n",
    "\n",
    "    if guess == secret_number:\n",
    "        print(\"Congratulations! You guessed the correct number.\")\n",
    "        break\n",
    "    else:   \n",
    "        if guess > secret_number:\n",
    "            print(\"Too high! Try again.\")\n",
    "        else:\n",
    "            print(\"Too low! Try again.\")"
   ]
  },
  {
   "cell_type": "code",
   "execution_count": null,
   "id": "2db7e48d",
   "metadata": {},
   "outputs": [],
   "source": [
    "#8. Write a Python program to check if a given word is a palindrome using a while loop.\n"
   ]
  },
  {
   "cell_type": "code",
   "execution_count": 8,
   "id": "4d9472a7",
   "metadata": {},
   "outputs": [
    {
     "name": "stdout",
     "output_type": "stream",
     "text": [
      "enter a number:6\n",
      "enter a limit:9\n",
      "6\n",
      "12\n",
      "18\n",
      "24\n",
      "30\n",
      "36\n",
      "42\n",
      "48\n",
      "54\n",
      "finished\n"
     ]
    }
   ],
   "source": [
    "#9.Write a Python program to print the multiplication table of a given number using a while loop.\n",
    "n = int(input(\"enter a number:\"))\n",
    "limit = int(input(\"enter a limit:\"))\n",
    "i=1\n",
    "while i<=limit:\n",
    "    print(n*i)\n",
    "    i=i+1\n",
    "print(\"finished\")"
   ]
  },
  {
   "cell_type": "code",
   "execution_count": 9,
   "id": "8f26b05c",
   "metadata": {},
   "outputs": [
    {
     "name": "stdout",
     "output_type": "stream",
     "text": [
      "Enter a number: 15\n",
      "15 is not a prime number.\n"
     ]
    }
   ],
   "source": [
    "#10.Write a Python program that checks if a given number is prime or not using a while loop.\n",
    "user_input = int(input(\"Enter a number: \"))\n",
    "if user_input < 2:\n",
    "    print(user_input, \"is not a prime number.\")\n",
    "else:\n",
    "    divisor = 2\n",
    "    while divisor * divisor <= user_input:\n",
    "        if user_input % divisor == 0:\n",
    "            print(f\"{user_input} is not a prime number.\")\n",
    "            break\n",
    "        divisor += 1\n",
    "    else:\n",
    "        print(user_input,\" is a prime number.\")"
   ]
  },
  {
   "cell_type": "code",
   "execution_count": 10,
   "id": "8bb8e801",
   "metadata": {},
   "outputs": [
    {
     "name": "stdout",
     "output_type": "stream",
     "text": [
      "Enter the base number: -1\n",
      "Enter the exponent (a non-negative integer): 5\n",
      "-1.0  raised to the power of 0 is: -1.0\n"
     ]
    }
   ],
   "source": [
    "#11.Write a Python program that calculates the result of raising a given number to a specified power using a while loop.\n",
    "n = float(input(\"Enter the base number: \"))\n",
    "raise_to = int(input(\"Enter the exponent (a non-negative integer): \"))\n",
    "\n",
    "# Check if the exponent is negative\n",
    "if raise_to < 0:\n",
    "    print(\"Exponent:\")\n",
    "else:\n",
    "    result = 1\n",
    "    while raise_to > 0:\n",
    "        result *= n\n",
    "        raise_to -= 1\n",
    "\n",
    "    print(n,\" raised to the power of\", raise_to,\"is:\",result)"
   ]
  },
  {
   "cell_type": "code",
   "execution_count": 11,
   "id": "5e5fe4f7",
   "metadata": {},
   "outputs": [
    {
     "name": "stdout",
     "output_type": "stream",
     "text": [
      "Enter a number: 17\n",
      "17  is not an Armstrong number.\n"
     ]
    }
   ],
   "source": [
    "#12.Write a Python program to check if a given number is an Armstrong number using a while loop.\n",
    "number = int(input(\"Enter a number: \"))\n",
    "\n",
    "\n",
    "original_number = number\n",
    "num_digits = len(str(number))\n",
    "result = 0\n",
    "\n",
    "while number > 0:\n",
    "    digit = number % 10\n",
    "    result += digit ** num_digits\n",
    "    number //= 10\n",
    "\n",
    "    \n",
    "if result == original_number:\n",
    "    print(original_number,\" is an Armstrong number.\")\n",
    "else:\n",
    "    print(original_number,\" is not an Armstrong number.\")"
   ]
  },
  {
   "cell_type": "code",
   "execution_count": 12,
   "id": "8fb3ab16",
   "metadata": {},
   "outputs": [
    {
     "name": "stdout",
     "output_type": "stream",
     "text": [
      "Enter the first number: 2\n",
      "Enter the second number:5\n",
      "The GCD of the two numbers is: 1\n"
     ]
    }
   ],
   "source": [
    "#13.Write a Python program to find the greatest common divisor (GCD) of two numbers using a while loop.\n",
    "num1 = int(input(\"Enter the first number: \"))\n",
    "num2 = int(input(\"Enter the second number:\"))\n",
    "\n",
    "if num1 == 0 and num2 == 0:\n",
    "    print(\"GCD is undefined for two zero values.\")\n",
    "else:\n",
    "    while num2:\n",
    "        num1, num2 = num2, num1 % num2\n",
    "\n",
    "    # Print the GCD\n",
    "    print(\"The GCD of the two numbers is:\",abs(num1))"
   ]
  },
  {
   "cell_type": "code",
   "execution_count": null,
   "id": "2b548857",
   "metadata": {},
   "outputs": [],
   "source": [
    "#14. Write a Python program to find the greatest common divisor (GCD) of two numbers using a while loop."
   ]
  },
  {
   "cell_type": "code",
   "execution_count": 13,
   "id": "292996d6",
   "metadata": {},
   "outputs": [
    {
     "name": "stdout",
     "output_type": "stream",
     "text": [
      "Enter the number of rows: 6\n",
      "* \n",
      "* * \n",
      "* * * \n",
      "* * * * \n",
      "* * * * * \n",
      "* * * * * * \n"
     ]
    }
   ],
   "source": [
    "#15.Write a Python program to print a pattern of asterisks using a while loop. For example, if the user enters 5, it should print:*\n",
    "# **\n",
    "# ***\n",
    "# ****\n",
    "# *****\n",
    "num_rows = int(input(\"Enter the number of rows: \"))\n",
    "\n",
    "row = 1\n",
    "\n",
    "while row <= num_rows:\n",
    "    print('* ' * row)\n",
    "    row += 1"
   ]
  },
  {
   "cell_type": "code",
   "execution_count": 14,
   "id": "8ea9e7bd",
   "metadata": {},
   "outputs": [
    {
     "name": "stdout",
     "output_type": "stream",
     "text": [
      "Enter an integer: 9\n",
      "The number of digits in the given integer is: 1\n"
     ]
    }
   ],
   "source": [
    "#16.Write a Python program to count the number of digits in a given integer using a while loop.\n",
    "num = int(input(\"Enter an integer: \"))\n",
    "\n",
    "digit_count = 0\n",
    "\n",
    "if num == 0:\n",
    "    digit_count = 1\n",
    "else:\n",
    "\n",
    "    while num != 0:\n",
    "        digit_count += 1\n",
    "        num //= 10\n",
    "\n",
    "# Print the result\n",
    "print(\"The number of digits in the given integer is:\", digit_count)"
   ]
  },
  {
   "cell_type": "code",
   "execution_count": null,
   "id": "15a1528e",
   "metadata": {},
   "outputs": [],
   "source": [
    "# for loop"
   ]
  },
  {
   "cell_type": "code",
   "execution_count": 2,
   "id": "882e5ec1",
   "metadata": {},
   "outputs": [
    {
     "name": "stdout",
     "output_type": "stream",
     "text": [
      "[(4, 3), (5, 2), (6, 1)]\n"
     ]
    }
   ],
   "source": [
    "#1.Write a Python program to find all pairs of integers in a given array whose sum is equal to a given number.\n",
    "def find_pairs(arr, target_sum):\n",
    "    pairs = []\n",
    "    seen_numbers = set()\n",
    "\n",
    "    for num in arr:\n",
    "        complement = target_sum - num\n",
    "        if complement in seen_numbers:\n",
    "            pairs.append((num, complement))\n",
    "        seen_numbers.add(num)\n",
    "\n",
    "    return pairs\n",
    "\n",
    "array = [1, 2, 3, 4, 5, 6]\n",
    "target = 7\n",
    "result = find_pairs(array, target)\n",
    "print(result)"
   ]
  },
  {
   "cell_type": "code",
   "execution_count": null,
   "id": "2c58d3cc",
   "metadata": {},
   "outputs": [],
   "source": [
    "#2.Write a Python program to find the median of a given unsorted list of integers. "
   ]
  },
  {
   "cell_type": "code",
   "execution_count": null,
   "id": "81b2d951",
   "metadata": {},
   "outputs": [],
   "source": [
    "#3.Write a Python program to find the longest increasing subsequence in a given array of integers."
   ]
  },
  {
   "cell_type": "code",
   "execution_count": null,
   "id": "23d56d65",
   "metadata": {},
   "outputs": [],
   "source": []
  },
  {
   "cell_type": "code",
   "execution_count": null,
   "id": "e0400fb3",
   "metadata": {},
   "outputs": [],
   "source": []
  },
  {
   "cell_type": "code",
   "execution_count": null,
   "id": "cdf6b674",
   "metadata": {},
   "outputs": [],
   "source": []
  },
  {
   "cell_type": "code",
   "execution_count": null,
   "id": "3619911e",
   "metadata": {},
   "outputs": [],
   "source": []
  }
 ],
 "metadata": {
  "kernelspec": {
   "display_name": "Python 3 (ipykernel)",
   "language": "python",
   "name": "python3"
  },
  "language_info": {
   "codemirror_mode": {
    "name": "ipython",
    "version": 3
   },
   "file_extension": ".py",
   "mimetype": "text/x-python",
   "name": "python",
   "nbconvert_exporter": "python",
   "pygments_lexer": "ipython3",
   "version": "3.11.5"
  }
 },
 "nbformat": 4,
 "nbformat_minor": 5
}
