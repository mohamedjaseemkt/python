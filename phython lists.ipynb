{
 "cells": [
  {
   "cell_type": "code",
   "execution_count": 1,
   "id": "1484fbe3",
   "metadata": {},
   "outputs": [
    {
     "name": "stdout",
     "output_type": "stream",
     "text": [
      "60\n"
     ]
    }
   ],
   "source": [
    "x = [12,36,5,7,]\n",
    "print(sum(x))\n",
    "#find the sum of elements in a list."
   ]
  },
  {
   "cell_type": "code",
   "execution_count": null,
   "id": "a53842df",
   "metadata": {},
   "outputs": [],
   "source": [
    "#creat a list if numbers.write a program to find the range (difference between the largest and smallest element)of the list.\n",
    "x = [8,10,15,20,25,50,20]\n",
    " \n",
    "x = set(y)"
   ]
  }
 ],
 "metadata": {
  "kernelspec": {
   "display_name": "Python 3 (ipykernel)",
   "language": "python",
   "name": "python3"
  },
  "language_info": {
   "codemirror_mode": {
    "name": "ipython",
    "version": 3
   },
   "file_extension": ".py",
   "mimetype": "text/x-python",
   "name": "python",
   "nbconvert_exporter": "python",
   "pygments_lexer": "ipython3",
   "version": "3.11.5"
  }
 },
 "nbformat": 4,
 "nbformat_minor": 5
}
